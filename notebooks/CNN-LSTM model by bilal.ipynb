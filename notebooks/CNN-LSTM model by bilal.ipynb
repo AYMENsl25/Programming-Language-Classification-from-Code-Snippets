{
  "cells": [
    {
      "cell_type": "code",
      "execution_count": null,
      "id": "0c96b818-7d6c-43c2-a442-cdec34a3c2c1",
      "metadata": {
        "id": "0c96b818-7d6c-43c2-a442-cdec34a3c2c1"
      },
      "outputs": [],
      "source": [
        "import pandas as pd\n",
        "import torch\n",
        "import tensorflow as tf\n",
        "from sklearn.linear_model import LinearRegression\n",
        "import numpy as np\n",
        "import matplotlib.pyplot as plt"
      ]
    },
    {
      "cell_type": "code",
      "execution_count": null,
      "id": "0a3c16b2-044a-43da-ac7f-07acd3694b9e",
      "metadata": {
        "id": "0a3c16b2-044a-43da-ac7f-07acd3694b9e"
      },
      "outputs": [],
      "source": [
        "import zipfile\n",
        "with zipfile.ZipFile(\"dataset_small.zip\", \"r\") as zip_ref:\n",
        "    zip_ref.extractall(\"data_folder2\")"
      ]
    },
    {
      "cell_type": "code",
      "execution_count": null,
      "id": "7f1ccd7d-0912-437f-b183-abf383565e7f",
      "metadata": {
        "id": "7f1ccd7d-0912-437f-b183-abf383565e7f",
        "colab": {
          "base_uri": "https://localhost:8080/",
          "height": 276
        },
        "outputId": "6bbf8bb8-12b0-47df-92ed-4ede2256831c"
      },
      "outputs": [
        {
          "output_type": "execute_result",
          "data": {
            "text/plain": [
              "   id           file_path  file_size  line_count extension  language  \\\n",
              "0   1  Markdown/000001.md      34784         572        md  Markdown   \n",
              "1   2    XML/000002.props       3013          44     props       XML   \n",
              "2   3     Text/000003.txt       1076          21       txt      Text   \n",
              "3   4  Markdown/000004.md       8105          84        md  Markdown   \n",
              "4   5  Markdown/000005.md       2763          41        md  Markdown   \n",
              "\n",
              "                                                code  \\\n",
              "0  # Contributing\\n\\n| Component            | Bui...   \n",
              "1  ﻿<Project ToolsVersion=\"15.0\" xmlns=\"http://sc...   \n",
              "2  The MIT License (MIT)\\n\\nCopyright (c) 2015 Mi...   \n",
              "3  # Azure SDK for .NET\\n\\n[![Packages](https://i...   \n",
              "4  <!-- BEGIN MICROSOFT SECURITY.MD V0.0.5 BLOCK ...   \n",
              "\n",
              "                                          clean_code  clean_line_count  \\\n",
              "0   contributing\\n\\n component             build ...               186   \n",
              "1  project toolsversion xmlns\\n  propertygroup\\n ...                44   \n",
              "2  the mit license mit\\n\\ncopyright c 2015 micros...                21   \n",
              "3   azure sdk for net\\n\\npackageshttpsimgshieldsi...                84   \n",
              "4   begin microsoft securitymd v005 block \\n\\n se...                41   \n",
              "\n",
              "   clean_size  \n",
              "0       10000  \n",
              "1        1812  \n",
              "2        1026  \n",
              "3        7244  \n",
              "4        2523  "
            ],
            "text/html": [
              "\n",
              "  <div id=\"df-13d1b85f-e712-4f35-b182-2605dde70c73\" class=\"colab-df-container\">\n",
              "    <div>\n",
              "<style scoped>\n",
              "    .dataframe tbody tr th:only-of-type {\n",
              "        vertical-align: middle;\n",
              "    }\n",
              "\n",
              "    .dataframe tbody tr th {\n",
              "        vertical-align: top;\n",
              "    }\n",
              "\n",
              "    .dataframe thead th {\n",
              "        text-align: right;\n",
              "    }\n",
              "</style>\n",
              "<table border=\"1\" class=\"dataframe\">\n",
              "  <thead>\n",
              "    <tr style=\"text-align: right;\">\n",
              "      <th></th>\n",
              "      <th>id</th>\n",
              "      <th>file_path</th>\n",
              "      <th>file_size</th>\n",
              "      <th>line_count</th>\n",
              "      <th>extension</th>\n",
              "      <th>language</th>\n",
              "      <th>code</th>\n",
              "      <th>clean_code</th>\n",
              "      <th>clean_line_count</th>\n",
              "      <th>clean_size</th>\n",
              "    </tr>\n",
              "  </thead>\n",
              "  <tbody>\n",
              "    <tr>\n",
              "      <th>0</th>\n",
              "      <td>1</td>\n",
              "      <td>Markdown/000001.md</td>\n",
              "      <td>34784</td>\n",
              "      <td>572</td>\n",
              "      <td>md</td>\n",
              "      <td>Markdown</td>\n",
              "      <td># Contributing\\n\\n| Component            | Bui...</td>\n",
              "      <td>contributing\\n\\n component             build ...</td>\n",
              "      <td>186</td>\n",
              "      <td>10000</td>\n",
              "    </tr>\n",
              "    <tr>\n",
              "      <th>1</th>\n",
              "      <td>2</td>\n",
              "      <td>XML/000002.props</td>\n",
              "      <td>3013</td>\n",
              "      <td>44</td>\n",
              "      <td>props</td>\n",
              "      <td>XML</td>\n",
              "      <td>﻿&lt;Project ToolsVersion=\"15.0\" xmlns=\"http://sc...</td>\n",
              "      <td>project toolsversion xmlns\\n  propertygroup\\n ...</td>\n",
              "      <td>44</td>\n",
              "      <td>1812</td>\n",
              "    </tr>\n",
              "    <tr>\n",
              "      <th>2</th>\n",
              "      <td>3</td>\n",
              "      <td>Text/000003.txt</td>\n",
              "      <td>1076</td>\n",
              "      <td>21</td>\n",
              "      <td>txt</td>\n",
              "      <td>Text</td>\n",
              "      <td>The MIT License (MIT)\\n\\nCopyright (c) 2015 Mi...</td>\n",
              "      <td>the mit license mit\\n\\ncopyright c 2015 micros...</td>\n",
              "      <td>21</td>\n",
              "      <td>1026</td>\n",
              "    </tr>\n",
              "    <tr>\n",
              "      <th>3</th>\n",
              "      <td>4</td>\n",
              "      <td>Markdown/000004.md</td>\n",
              "      <td>8105</td>\n",
              "      <td>84</td>\n",
              "      <td>md</td>\n",
              "      <td>Markdown</td>\n",
              "      <td># Azure SDK for .NET\\n\\n[![Packages](https://i...</td>\n",
              "      <td>azure sdk for net\\n\\npackageshttpsimgshieldsi...</td>\n",
              "      <td>84</td>\n",
              "      <td>7244</td>\n",
              "    </tr>\n",
              "    <tr>\n",
              "      <th>4</th>\n",
              "      <td>5</td>\n",
              "      <td>Markdown/000005.md</td>\n",
              "      <td>2763</td>\n",
              "      <td>41</td>\n",
              "      <td>md</td>\n",
              "      <td>Markdown</td>\n",
              "      <td>&lt;!-- BEGIN MICROSOFT SECURITY.MD V0.0.5 BLOCK ...</td>\n",
              "      <td>begin microsoft securitymd v005 block \\n\\n se...</td>\n",
              "      <td>41</td>\n",
              "      <td>2523</td>\n",
              "    </tr>\n",
              "  </tbody>\n",
              "</table>\n",
              "</div>\n",
              "    <div class=\"colab-df-buttons\">\n",
              "\n",
              "  <div class=\"colab-df-container\">\n",
              "    <button class=\"colab-df-convert\" onclick=\"convertToInteractive('df-13d1b85f-e712-4f35-b182-2605dde70c73')\"\n",
              "            title=\"Convert this dataframe to an interactive table.\"\n",
              "            style=\"display:none;\">\n",
              "\n",
              "  <svg xmlns=\"http://www.w3.org/2000/svg\" height=\"24px\" viewBox=\"0 -960 960 960\">\n",
              "    <path d=\"M120-120v-720h720v720H120Zm60-500h600v-160H180v160Zm220 220h160v-160H400v160Zm0 220h160v-160H400v160ZM180-400h160v-160H180v160Zm440 0h160v-160H620v160ZM180-180h160v-160H180v160Zm440 0h160v-160H620v160Z\"/>\n",
              "  </svg>\n",
              "    </button>\n",
              "\n",
              "  <style>\n",
              "    .colab-df-container {\n",
              "      display:flex;\n",
              "      gap: 12px;\n",
              "    }\n",
              "\n",
              "    .colab-df-convert {\n",
              "      background-color: #E8F0FE;\n",
              "      border: none;\n",
              "      border-radius: 50%;\n",
              "      cursor: pointer;\n",
              "      display: none;\n",
              "      fill: #1967D2;\n",
              "      height: 32px;\n",
              "      padding: 0 0 0 0;\n",
              "      width: 32px;\n",
              "    }\n",
              "\n",
              "    .colab-df-convert:hover {\n",
              "      background-color: #E2EBFA;\n",
              "      box-shadow: 0px 1px 2px rgba(60, 64, 67, 0.3), 0px 1px 3px 1px rgba(60, 64, 67, 0.15);\n",
              "      fill: #174EA6;\n",
              "    }\n",
              "\n",
              "    .colab-df-buttons div {\n",
              "      margin-bottom: 4px;\n",
              "    }\n",
              "\n",
              "    [theme=dark] .colab-df-convert {\n",
              "      background-color: #3B4455;\n",
              "      fill: #D2E3FC;\n",
              "    }\n",
              "\n",
              "    [theme=dark] .colab-df-convert:hover {\n",
              "      background-color: #434B5C;\n",
              "      box-shadow: 0px 1px 3px 1px rgba(0, 0, 0, 0.15);\n",
              "      filter: drop-shadow(0px 1px 2px rgba(0, 0, 0, 0.3));\n",
              "      fill: #FFFFFF;\n",
              "    }\n",
              "  </style>\n",
              "\n",
              "    <script>\n",
              "      const buttonEl =\n",
              "        document.querySelector('#df-13d1b85f-e712-4f35-b182-2605dde70c73 button.colab-df-convert');\n",
              "      buttonEl.style.display =\n",
              "        google.colab.kernel.accessAllowed ? 'block' : 'none';\n",
              "\n",
              "      async function convertToInteractive(key) {\n",
              "        const element = document.querySelector('#df-13d1b85f-e712-4f35-b182-2605dde70c73');\n",
              "        const dataTable =\n",
              "          await google.colab.kernel.invokeFunction('convertToInteractive',\n",
              "                                                    [key], {});\n",
              "        if (!dataTable) return;\n",
              "\n",
              "        const docLinkHtml = 'Like what you see? Visit the ' +\n",
              "          '<a target=\"_blank\" href=https://colab.research.google.com/notebooks/data_table.ipynb>data table notebook</a>'\n",
              "          + ' to learn more about interactive tables.';\n",
              "        element.innerHTML = '';\n",
              "        dataTable['output_type'] = 'display_data';\n",
              "        await google.colab.output.renderOutput(dataTable, element);\n",
              "        const docLink = document.createElement('div');\n",
              "        docLink.innerHTML = docLinkHtml;\n",
              "        element.appendChild(docLink);\n",
              "      }\n",
              "    </script>\n",
              "  </div>\n",
              "\n",
              "\n",
              "    <div id=\"df-88fd6db1-051d-4270-965e-43624a4424a9\">\n",
              "      <button class=\"colab-df-quickchart\" onclick=\"quickchart('df-88fd6db1-051d-4270-965e-43624a4424a9')\"\n",
              "                title=\"Suggest charts\"\n",
              "                style=\"display:none;\">\n",
              "\n",
              "<svg xmlns=\"http://www.w3.org/2000/svg\" height=\"24px\"viewBox=\"0 0 24 24\"\n",
              "     width=\"24px\">\n",
              "    <g>\n",
              "        <path d=\"M19 3H5c-1.1 0-2 .9-2 2v14c0 1.1.9 2 2 2h14c1.1 0 2-.9 2-2V5c0-1.1-.9-2-2-2zM9 17H7v-7h2v7zm4 0h-2V7h2v10zm4 0h-2v-4h2v4z\"/>\n",
              "    </g>\n",
              "</svg>\n",
              "      </button>\n",
              "\n",
              "<style>\n",
              "  .colab-df-quickchart {\n",
              "      --bg-color: #E8F0FE;\n",
              "      --fill-color: #1967D2;\n",
              "      --hover-bg-color: #E2EBFA;\n",
              "      --hover-fill-color: #174EA6;\n",
              "      --disabled-fill-color: #AAA;\n",
              "      --disabled-bg-color: #DDD;\n",
              "  }\n",
              "\n",
              "  [theme=dark] .colab-df-quickchart {\n",
              "      --bg-color: #3B4455;\n",
              "      --fill-color: #D2E3FC;\n",
              "      --hover-bg-color: #434B5C;\n",
              "      --hover-fill-color: #FFFFFF;\n",
              "      --disabled-bg-color: #3B4455;\n",
              "      --disabled-fill-color: #666;\n",
              "  }\n",
              "\n",
              "  .colab-df-quickchart {\n",
              "    background-color: var(--bg-color);\n",
              "    border: none;\n",
              "    border-radius: 50%;\n",
              "    cursor: pointer;\n",
              "    display: none;\n",
              "    fill: var(--fill-color);\n",
              "    height: 32px;\n",
              "    padding: 0;\n",
              "    width: 32px;\n",
              "  }\n",
              "\n",
              "  .colab-df-quickchart:hover {\n",
              "    background-color: var(--hover-bg-color);\n",
              "    box-shadow: 0 1px 2px rgba(60, 64, 67, 0.3), 0 1px 3px 1px rgba(60, 64, 67, 0.15);\n",
              "    fill: var(--button-hover-fill-color);\n",
              "  }\n",
              "\n",
              "  .colab-df-quickchart-complete:disabled,\n",
              "  .colab-df-quickchart-complete:disabled:hover {\n",
              "    background-color: var(--disabled-bg-color);\n",
              "    fill: var(--disabled-fill-color);\n",
              "    box-shadow: none;\n",
              "  }\n",
              "\n",
              "  .colab-df-spinner {\n",
              "    border: 2px solid var(--fill-color);\n",
              "    border-color: transparent;\n",
              "    border-bottom-color: var(--fill-color);\n",
              "    animation:\n",
              "      spin 1s steps(1) infinite;\n",
              "  }\n",
              "\n",
              "  @keyframes spin {\n",
              "    0% {\n",
              "      border-color: transparent;\n",
              "      border-bottom-color: var(--fill-color);\n",
              "      border-left-color: var(--fill-color);\n",
              "    }\n",
              "    20% {\n",
              "      border-color: transparent;\n",
              "      border-left-color: var(--fill-color);\n",
              "      border-top-color: var(--fill-color);\n",
              "    }\n",
              "    30% {\n",
              "      border-color: transparent;\n",
              "      border-left-color: var(--fill-color);\n",
              "      border-top-color: var(--fill-color);\n",
              "      border-right-color: var(--fill-color);\n",
              "    }\n",
              "    40% {\n",
              "      border-color: transparent;\n",
              "      border-right-color: var(--fill-color);\n",
              "      border-top-color: var(--fill-color);\n",
              "    }\n",
              "    60% {\n",
              "      border-color: transparent;\n",
              "      border-right-color: var(--fill-color);\n",
              "    }\n",
              "    80% {\n",
              "      border-color: transparent;\n",
              "      border-right-color: var(--fill-color);\n",
              "      border-bottom-color: var(--fill-color);\n",
              "    }\n",
              "    90% {\n",
              "      border-color: transparent;\n",
              "      border-bottom-color: var(--fill-color);\n",
              "    }\n",
              "  }\n",
              "</style>\n",
              "\n",
              "      <script>\n",
              "        async function quickchart(key) {\n",
              "          const quickchartButtonEl =\n",
              "            document.querySelector('#' + key + ' button');\n",
              "          quickchartButtonEl.disabled = true;  // To prevent multiple clicks.\n",
              "          quickchartButtonEl.classList.add('colab-df-spinner');\n",
              "          try {\n",
              "            const charts = await google.colab.kernel.invokeFunction(\n",
              "                'suggestCharts', [key], {});\n",
              "          } catch (error) {\n",
              "            console.error('Error during call to suggestCharts:', error);\n",
              "          }\n",
              "          quickchartButtonEl.classList.remove('colab-df-spinner');\n",
              "          quickchartButtonEl.classList.add('colab-df-quickchart-complete');\n",
              "        }\n",
              "        (() => {\n",
              "          let quickchartButtonEl =\n",
              "            document.querySelector('#df-88fd6db1-051d-4270-965e-43624a4424a9 button');\n",
              "          quickchartButtonEl.style.display =\n",
              "            google.colab.kernel.accessAllowed ? 'block' : 'none';\n",
              "        })();\n",
              "      </script>\n",
              "    </div>\n",
              "\n",
              "    </div>\n",
              "  </div>\n"
            ],
            "application/vnd.google.colaboratory.intrinsic+json": {
              "type": "dataframe",
              "variable_name": "df",
              "summary": "{\n  \"name\": \"df\",\n  \"rows\": 86227,\n  \"fields\": [\n    {\n      \"column\": \"id\",\n      \"properties\": {\n        \"dtype\": \"number\",\n        \"std\": 24891,\n        \"min\": 1,\n        \"max\": 86233,\n        \"num_unique_values\": 86227,\n        \"samples\": [\n          64323,\n          4569,\n          79199\n        ],\n        \"semantic_type\": \"\",\n        \"description\": \"\"\n      }\n    },\n    {\n      \"column\": \"file_path\",\n      \"properties\": {\n        \"dtype\": \"string\",\n        \"num_unique_values\": 86227,\n        \"samples\": [\n          \"Ruby/064323.rb\",\n          \"C#/004569.cs\",\n          \"Rust/079199.rs\"\n        ],\n        \"semantic_type\": \"\",\n        \"description\": \"\"\n      }\n    },\n    {\n      \"column\": \"file_size\",\n      \"properties\": {\n        \"dtype\": \"number\",\n        \"std\": 288525,\n        \"min\": 0,\n        \"max\": 27009979,\n        \"num_unique_values\": 18669,\n        \"samples\": [\n          3052,\n          58845,\n          30672\n        ],\n        \"semantic_type\": \"\",\n        \"description\": \"\"\n      }\n    },\n    {\n      \"column\": \"line_count\",\n      \"properties\": {\n        \"dtype\": \"number\",\n        \"std\": 4910,\n        \"min\": 0,\n        \"max\": 580544,\n        \"num_unique_values\": 2721,\n        \"samples\": [\n          3794,\n          345,\n          1793\n        ],\n        \"semantic_type\": \"\",\n        \"description\": \"\"\n      }\n    },\n    {\n      \"column\": \"extension\",\n      \"properties\": {\n        \"dtype\": \"category\",\n        \"num_unique_values\": 129,\n        \"samples\": [\n          \"eex\",\n          \"cc\",\n          \"psd1\"\n        ],\n        \"semantic_type\": \"\",\n        \"description\": \"\"\n      }\n    },\n    {\n      \"column\": \"language\",\n      \"properties\": {\n        \"dtype\": \"category\",\n        \"num_unique_values\": 77,\n        \"samples\": [\n          \"Dockerfile\",\n          \"Prolog\",\n          \"SVG\"\n        ],\n        \"semantic_type\": \"\",\n        \"description\": \"\"\n      }\n    },\n    {\n      \"column\": \"code\",\n      \"properties\": {\n        \"dtype\": \"string\",\n        \"num_unique_values\": 83426,\n        \"samples\": [\n          \"FROM debian:bullseye-slim\\nLABEL maintainer \\\"Jessie Frazelle <jess@linux.com>\\\"\\n\\nRUN apt-get update && apt-get install -y \\\\\\n\\tstress \\\\\\n\\t--no-install-recommends \\\\\\n\\t&& rm -rf /var/lib/apt/lists/*\\n\\nENTRYPOINT [ \\\"stress\\\" ]\\n\",\n          \"// run-pass\\n\\nstruct Sum(u32, u32);\\n\\nimpl PartialEq for Sum {\\n    fn eq(&self, other: &Self) -> bool { self.0 + self.1 == other.0 + other.1 }\\n}\\n\\nimpl Eq for Sum { }\\n\\n#[derive(PartialEq, Eq)]\\nenum Eek {\\n    TheConst,\\n    UnusedByTheConst(Sum)\\n}\\n\\nconst THE_CONST: Eek = Eek::TheConst;\\n\\npub fn main() {\\n    match Eek::UnusedByTheConst(Sum(1,2)) {\\n        THE_CONST => { panic!(); }\\n        _ => {}\\n    }\\n}\\n\",\n          \"# frozen_string_literal: true\\n\\nrequire \\\"active_support/core_ext/hash/indifferent_access\\\"\\nrequire \\\"active_support/core_ext/object/duplicable\\\"\\n\\nmodule ActiveModel\\n  class AttributeMutationTracker # :nodoc:\\n    OPTION_NOT_GIVEN = Object.new\\n\\n    def initialize(attributes)\\n      @attributes = attributes\\n    end\\n\\n    def changed_attribute_names\\n      attr_names.select { |attr_name| changed?(attr_name) }\\n    end\\n\\n    def changed_values\\n      attr_names.each_with_object({}.with_indifferent_access) do |attr_name, result|\\n        if changed?(attr_name)\\n          result[attr_name] = original_value(attr_name)\\n        end\\n      end\\n    end\\n\\n    def changes\\n      attr_names.each_with_object({}.with_indifferent_access) do |attr_name, result|\\n        if change = change_to_attribute(attr_name)\\n          result.merge!(attr_name => change)\\n        end\\n      end\\n    end\\n\\n    def change_to_attribute(attr_name)\\n      if changed?(attr_name)\\n        [original_value(attr_name), fetch_value(attr_name)]\\n      end\\n    end\\n\\n    def any_changes?\\n      attr_names.any? { |attr| changed?(attr) }\\n    end\\n\\n    def changed?(attr_name, from: OPTION_NOT_GIVEN, to: OPTION_NOT_GIVEN)\\n      attribute_changed?(attr_name) &&\\n        (OPTION_NOT_GIVEN == from || original_value(attr_name) == from) &&\\n        (OPTION_NOT_GIVEN == to || fetch_value(attr_name) == to)\\n    end\\n\\n    def changed_in_place?(attr_name)\\n      attributes[attr_name].changed_in_place?\\n    end\\n\\n    def forget_change(attr_name)\\n      attributes[attr_name] = attributes[attr_name].forgetting_assignment\\n      forced_changes.delete(attr_name)\\n    end\\n\\n    def original_value(attr_name)\\n      attributes[attr_name].original_value\\n    end\\n\\n    def force_change(attr_name)\\n      forced_changes[attr_name] = fetch_value(attr_name)\\n    end\\n\\n    private\\n      attr_reader :attributes\\n\\n      def forced_changes\\n        @forced_changes ||= {}\\n      end\\n\\n      def attr_names\\n        attributes.keys\\n      end\\n\\n      def attribute_changed?(attr_name)\\n        forced_changes.include?(attr_name) || !!attributes[attr_name].changed?\\n      end\\n\\n      def fetch_value(attr_name)\\n        attributes.fetch_value(attr_name)\\n      end\\n  end\\n\\n  class ForcedMutationTracker < AttributeMutationTracker # :nodoc:\\n    def initialize(attributes)\\n      super\\n      @finalized_changes = nil\\n    end\\n\\n    def changed_in_place?(attr_name)\\n      false\\n    end\\n\\n    def change_to_attribute(attr_name)\\n      if finalized_changes&.include?(attr_name)\\n        finalized_changes[attr_name].dup\\n      else\\n        super\\n      end\\n    end\\n\\n    def forget_change(attr_name)\\n      forced_changes.delete(attr_name)\\n    end\\n\\n    def original_value(attr_name)\\n      if changed?(attr_name)\\n        forced_changes[attr_name]\\n      else\\n        fetch_value(attr_name)\\n      end\\n    end\\n\\n    def force_change(attr_name)\\n      forced_changes[attr_name] = clone_value(attr_name) unless attribute_changed?(attr_name)\\n    end\\n\\n    def finalize_changes\\n      @finalized_changes = changes\\n    end\\n\\n    private\\n      attr_reader :finalized_changes\\n\\n      def attr_names\\n        forced_changes.keys\\n      end\\n\\n      def attribute_changed?(attr_name)\\n        forced_changes.include?(attr_name)\\n      end\\n\\n      def fetch_value(attr_name)\\n        attributes.send(:_read_attribute, attr_name)\\n      end\\n\\n      def clone_value(attr_name)\\n        value = fetch_value(attr_name)\\n        value.duplicable? ? value.clone : value\\n      rescue TypeError, NoMethodError\\n        value\\n      end\\n  end\\n\\n  class NullMutationTracker # :nodoc:\\n    include Singleton\\n\\n    def changed_attribute_names\\n      []\\n    end\\n\\n    def changed_values\\n      {}\\n    end\\n\\n    def changes\\n      {}\\n    end\\n\\n    def change_to_attribute(attr_name)\\n    end\\n\\n    def any_changes?\\n      false\\n    end\\n\\n    def changed?(attr_name, **)\\n      false\\n    end\\n\\n    def changed_in_place?(attr_name)\\n      false\\n    end\\n\\n    def original_value(attr_name)\\n    end\\n  end\\nend\\n\"\n        ],\n        \"semantic_type\": \"\",\n        \"description\": \"\"\n      }\n    },\n    {\n      \"column\": \"clean_code\",\n      \"properties\": {\n        \"dtype\": \"string\",\n        \"num_unique_values\": 81136,\n        \"samples\": [\n          \" copyright c 2018 the dart project authors please see the authors file\\n for details all rights reserved use of this source code is governed by a\\n bsdstyle license that can be found in the license file\\n\\nimport \\nimport  show directory platform processsignal exit\\n\\nimport \\nimport \\nimport \\nimport \\nimport  as path\\nimport \\n\\n a simple application that uses the analysis server to analyze a package\\nvoid mainliststring args async \\n  var target  await parseargsargs\\n  print\\n\\n   launch the server\\n  var server  server\\n  await serverstart\\n\\n   connect to the server\\n  var handler  _handlerserver\\n  serverlistentooutputnotificationprocessor handlerhandleevent\\n  if await handlerserverconnectedtimelimit const durationseconds 15 \\n    exit1\\n  \\n\\n   request analysis\\n  await serversendserver_request_set_subscriptions\\n      serversetsubscriptionsparamsserverservicestatustojson\\n  await serversendanalysis_request_set_analysis_roots\\n      analysissetanalysisrootsparamstarget const tojson\\n\\n   continue to watch for analysis until the user presses ctrlc\\n  late streamsubscriptionprocesssignal subscription\\n  subscription  processsignalsigintwatchlisten_ async \\n    print\\n     ignore unawaited_futures\\n    subscriptioncancel\\n    await serverstop\\n  \\n\\n\\nfuturestring parseargsliststring args async \\n  if argslength  1 \\n    printusageandexit\\n  \\n  final dir  directorypathnormalizepathabsoluteargs0\\n  if await direxists \\n    printusageandexit\\n  \\n  return dirpath\\n\\n\\nvoid printusageandexitstring errormessage \\n  printerrormessage\\n  print\\n  var appname  pathbasenameplatformscripttofilepath\\n  print\\n  print\\n  exit1\\n\\n\\nclass _handler with notificationhandler connectionhandler \\n  override\\n  final server server\\n  int errorcount  0\\n\\n  _handlerthisserver\\n\\n  override\\n  void onanalysiserrorsanalysiserrorsparams params \\n    var errors  paramserrors\\n    var first  true\\n    for var error in errors \\n      if errortypename   \\n         ignore these types of \\n        continue\\n      \\n      if first \\n        first  false\\n        print\\n      \\n      var loc  errorlocation\\n      print\\n      errorcount\\n    \\n  \\n\\n  override\\n  void onfailedtoconnect \\n    print\\n  \\n\\n  override\\n  void onprotocolnotsupportedversion version \\n    print\\n  \\n\\n  override\\n  void onservererrorservererrorparams params \\n    if paramsisfatal \\n      print\\n     else \\n      print\\n    \\n    printparamsstacktrace\\n    superonservererrorparams\\n  \\n\\n  override\\n  void onserverstatusserverstatusparams params \\n    var analysisstatus  paramsanalysis\\n    if analysisstatus  null  analysisstatusisanalyzing \\n       whenever the server stops analyzing\\n       print a brief summary of what issues have been found\\n      if errorcount  0 \\n        print\\n       else \\n        print\\n      \\n      errorcount  0\\n      print\\n    \\n  \\n\\n\",\n          \"\\n  file\\n  brief problem 1httpsprojecteulernetproblem1 solution\\n  this solution is based on the pattern that the successive numbers in the\\n  series follow 03213123\\n \\n  if we list all the natural numbers below 10 that are multiples of 3 or 5\\n  we get 356 and 9 the sum of these multiples is 23\\n  find the sum of all the multiples of 3 or 5 below n\\n \\ninclude stdioh\\n\\n main function \\nint main\\n\\n    int n  0\\n    int sum  0\\n    int num  0\\n    scanf n\\n\\n    while 1\\n    \\n        num  3\\n        if num  n\\n            break\\n        sum  num\\n        num  2\\n        if num  n\\n            break\\n        sum  num\\n        num  1\\n        if num  n\\n            break\\n        sum  num\\n        num  3\\n        if num  n\\n            break\\n        sum  num\\n        num  1\\n        if num  n\\n            break\\n        sum  num\\n        num  2\\n        if num  n\\n            break\\n        sum  num\\n        num  3\\n        if num  n\\n            break\\n        sum  num\\n    \\n\\n    printf sum\\n    return 0\\n\",\n          \" errorcheck\\n\\n copyright 2015 the go authors all rights reserved\\n use of this source code is governed by a bsdstyle\\n license that can be found in the license file\\n\\npackage main\\n\\nvar \\n\\ta b  f  error \\n\\tc     b    gccgo_error \\n\\n\\nfunc f int int \\n\\treturn c c\\n\\n\\nfunc main \\n\"\n        ],\n        \"semantic_type\": \"\",\n        \"description\": \"\"\n      }\n    },\n    {\n      \"column\": \"clean_line_count\",\n      \"properties\": {\n        \"dtype\": \"number\",\n        \"std\": 144,\n        \"min\": 0,\n        \"max\": 10000,\n        \"num_unique_values\": 989,\n        \"samples\": [\n          223,\n          254,\n          637\n        ],\n        \"semantic_type\": \"\",\n        \"description\": \"\"\n      }\n    },\n    {\n      \"column\": \"clean_size\",\n      \"properties\": {\n        \"dtype\": \"number\",\n        \"std\": 3136,\n        \"min\": 0,\n        \"max\": 11175,\n        \"num_unique_values\": 8537,\n        \"samples\": [\n          8131,\n          1654,\n          3328\n        ],\n        \"semantic_type\": \"\",\n        \"description\": \"\"\n      }\n    }\n  ]\n}"
            }
          },
          "metadata": {},
          "execution_count": 21
        }
      ],
      "source": [
        "df = pd.read_csv(\"data_folder2/structured_cleaned_new_dataset.csv\")\n",
        "df.head()\n"
      ]
    },
    {
      "cell_type": "code",
      "execution_count": null,
      "id": "fd3fdfba-df9d-43e8-8ed4-5209fd4ad14e",
      "metadata": {
        "id": "fd3fdfba-df9d-43e8-8ed4-5209fd4ad14e",
        "colab": {
          "base_uri": "https://localhost:8080/"
        },
        "outputId": "cc336b25-14c7-4fdc-e90d-5455ef9e388a"
      },
      "outputs": [
        {
          "output_type": "stream",
          "name": "stdout",
          "text": [
            "Missing code rows: 58\n"
          ]
        }
      ],
      "source": [
        "missing = df[\"clean_code\"].isnull().sum()\n",
        "print(f\"Missing code rows: {missing}\")"
      ]
    },
    {
      "cell_type": "code",
      "execution_count": null,
      "id": "4487e9a1-1a51-403c-ac28-fb760a667466",
      "metadata": {
        "id": "4487e9a1-1a51-403c-ac28-fb760a667466",
        "colab": {
          "base_uri": "https://localhost:8080/",
          "height": 580
        },
        "outputId": "ad844387-62c7-44ab-fa80-1d6c5bf12063"
      },
      "outputs": [
        {
          "output_type": "execute_result",
          "data": {
            "text/plain": [
              "          id           file_path  file_size  line_count extension  language  \\\n",
              "0          1  Markdown/000001.md      34784         572        md  Markdown   \n",
              "1          2    XML/000002.props       3013          44     props       XML   \n",
              "2          3     Text/000003.txt       1076          21       txt      Text   \n",
              "3          4  Markdown/000004.md       8105          84        md  Markdown   \n",
              "4          5  Markdown/000005.md       2763          41        md  Markdown   \n",
              "...      ...                 ...        ...         ...       ...       ...   \n",
              "86222  86229      SQL/086229.sql        333          18       sql       SQL   \n",
              "86223  86230      SQL/086230.sql        420           8       sql       SQL   \n",
              "86224  86231      SQL/086231.sql        333          18       sql       SQL   \n",
              "86225  86232      SQL/086232.sql        420           8       sql       SQL   \n",
              "86226  86233      SQL/086233.sql        333          18       sql       SQL   \n",
              "\n",
              "                                                    code  \\\n",
              "0      # Contributing\\n\\n| Component            | Bui...   \n",
              "1      ﻿<Project ToolsVersion=\"15.0\" xmlns=\"http://sc...   \n",
              "2      The MIT License (MIT)\\n\\nCopyright (c) 2015 Mi...   \n",
              "3      # Azure SDK for .NET\\n\\n[![Packages](https://i...   \n",
              "4      <!-- BEGIN MICROSOFT SECURITY.MD V0.0.5 BLOCK ...   \n",
              "...                                                  ...   \n",
              "86222  CREATE SCHEMA TestSchema;\\nGO\\n\\nCREATE TABLE ...   \n",
              "86223  WITH a AS (SELECT * FROM (VALUES(1),(2),(3),(4...   \n",
              "86224  CREATE SCHEMA TestSchema;\\nGO\\n\\nCREATE TABLE ...   \n",
              "86225  WITH a AS (SELECT * FROM (VALUES(1),(2),(3),(4...   \n",
              "86226  CREATE SCHEMA TestSchema;\\nGO\\n\\nCREATE TABLE ...   \n",
              "\n",
              "                                              clean_code  clean_line_count  \\\n",
              "0       contributing\\n\\n component             build ...               186   \n",
              "1      project toolsversion xmlns\\n  propertygroup\\n ...                44   \n",
              "2      the mit license mit\\n\\ncopyright c 2015 micros...                21   \n",
              "3       azure sdk for net\\n\\npackageshttpsimgshieldsi...                84   \n",
              "4       begin microsoft securitymd v005 block \\n\\n se...                41   \n",
              "...                                                  ...               ...   \n",
              "86222  create schema testschema\\ngo\\n\\ncreate table t...                18   \n",
              "86223  with a as select  from values12345678910 as aa...                 8   \n",
              "86224  create schema testschema\\ngo\\n\\ncreate table t...                18   \n",
              "86225  with a as select  from values12345678910 as aa...                 8   \n",
              "86226  create schema testschema\\ngo\\n\\ncreate table t...                18   \n",
              "\n",
              "       clean_size  \n",
              "0           10000  \n",
              "1            1812  \n",
              "2            1026  \n",
              "3            7244  \n",
              "4            2523  \n",
              "...           ...  \n",
              "86222         253  \n",
              "86223         304  \n",
              "86224         253  \n",
              "86225         304  \n",
              "86226         253  \n",
              "\n",
              "[86169 rows x 10 columns]"
            ],
            "text/html": [
              "\n",
              "  <div id=\"df-ca5b435d-d221-4052-9132-fec96c9d0f91\" class=\"colab-df-container\">\n",
              "    <div>\n",
              "<style scoped>\n",
              "    .dataframe tbody tr th:only-of-type {\n",
              "        vertical-align: middle;\n",
              "    }\n",
              "\n",
              "    .dataframe tbody tr th {\n",
              "        vertical-align: top;\n",
              "    }\n",
              "\n",
              "    .dataframe thead th {\n",
              "        text-align: right;\n",
              "    }\n",
              "</style>\n",
              "<table border=\"1\" class=\"dataframe\">\n",
              "  <thead>\n",
              "    <tr style=\"text-align: right;\">\n",
              "      <th></th>\n",
              "      <th>id</th>\n",
              "      <th>file_path</th>\n",
              "      <th>file_size</th>\n",
              "      <th>line_count</th>\n",
              "      <th>extension</th>\n",
              "      <th>language</th>\n",
              "      <th>code</th>\n",
              "      <th>clean_code</th>\n",
              "      <th>clean_line_count</th>\n",
              "      <th>clean_size</th>\n",
              "    </tr>\n",
              "  </thead>\n",
              "  <tbody>\n",
              "    <tr>\n",
              "      <th>0</th>\n",
              "      <td>1</td>\n",
              "      <td>Markdown/000001.md</td>\n",
              "      <td>34784</td>\n",
              "      <td>572</td>\n",
              "      <td>md</td>\n",
              "      <td>Markdown</td>\n",
              "      <td># Contributing\\n\\n| Component            | Bui...</td>\n",
              "      <td>contributing\\n\\n component             build ...</td>\n",
              "      <td>186</td>\n",
              "      <td>10000</td>\n",
              "    </tr>\n",
              "    <tr>\n",
              "      <th>1</th>\n",
              "      <td>2</td>\n",
              "      <td>XML/000002.props</td>\n",
              "      <td>3013</td>\n",
              "      <td>44</td>\n",
              "      <td>props</td>\n",
              "      <td>XML</td>\n",
              "      <td>﻿&lt;Project ToolsVersion=\"15.0\" xmlns=\"http://sc...</td>\n",
              "      <td>project toolsversion xmlns\\n  propertygroup\\n ...</td>\n",
              "      <td>44</td>\n",
              "      <td>1812</td>\n",
              "    </tr>\n",
              "    <tr>\n",
              "      <th>2</th>\n",
              "      <td>3</td>\n",
              "      <td>Text/000003.txt</td>\n",
              "      <td>1076</td>\n",
              "      <td>21</td>\n",
              "      <td>txt</td>\n",
              "      <td>Text</td>\n",
              "      <td>The MIT License (MIT)\\n\\nCopyright (c) 2015 Mi...</td>\n",
              "      <td>the mit license mit\\n\\ncopyright c 2015 micros...</td>\n",
              "      <td>21</td>\n",
              "      <td>1026</td>\n",
              "    </tr>\n",
              "    <tr>\n",
              "      <th>3</th>\n",
              "      <td>4</td>\n",
              "      <td>Markdown/000004.md</td>\n",
              "      <td>8105</td>\n",
              "      <td>84</td>\n",
              "      <td>md</td>\n",
              "      <td>Markdown</td>\n",
              "      <td># Azure SDK for .NET\\n\\n[![Packages](https://i...</td>\n",
              "      <td>azure sdk for net\\n\\npackageshttpsimgshieldsi...</td>\n",
              "      <td>84</td>\n",
              "      <td>7244</td>\n",
              "    </tr>\n",
              "    <tr>\n",
              "      <th>4</th>\n",
              "      <td>5</td>\n",
              "      <td>Markdown/000005.md</td>\n",
              "      <td>2763</td>\n",
              "      <td>41</td>\n",
              "      <td>md</td>\n",
              "      <td>Markdown</td>\n",
              "      <td>&lt;!-- BEGIN MICROSOFT SECURITY.MD V0.0.5 BLOCK ...</td>\n",
              "      <td>begin microsoft securitymd v005 block \\n\\n se...</td>\n",
              "      <td>41</td>\n",
              "      <td>2523</td>\n",
              "    </tr>\n",
              "    <tr>\n",
              "      <th>...</th>\n",
              "      <td>...</td>\n",
              "      <td>...</td>\n",
              "      <td>...</td>\n",
              "      <td>...</td>\n",
              "      <td>...</td>\n",
              "      <td>...</td>\n",
              "      <td>...</td>\n",
              "      <td>...</td>\n",
              "      <td>...</td>\n",
              "      <td>...</td>\n",
              "    </tr>\n",
              "    <tr>\n",
              "      <th>86222</th>\n",
              "      <td>86229</td>\n",
              "      <td>SQL/086229.sql</td>\n",
              "      <td>333</td>\n",
              "      <td>18</td>\n",
              "      <td>sql</td>\n",
              "      <td>SQL</td>\n",
              "      <td>CREATE SCHEMA TestSchema;\\nGO\\n\\nCREATE TABLE ...</td>\n",
              "      <td>create schema testschema\\ngo\\n\\ncreate table t...</td>\n",
              "      <td>18</td>\n",
              "      <td>253</td>\n",
              "    </tr>\n",
              "    <tr>\n",
              "      <th>86223</th>\n",
              "      <td>86230</td>\n",
              "      <td>SQL/086230.sql</td>\n",
              "      <td>420</td>\n",
              "      <td>8</td>\n",
              "      <td>sql</td>\n",
              "      <td>SQL</td>\n",
              "      <td>WITH a AS (SELECT * FROM (VALUES(1),(2),(3),(4...</td>\n",
              "      <td>with a as select  from values12345678910 as aa...</td>\n",
              "      <td>8</td>\n",
              "      <td>304</td>\n",
              "    </tr>\n",
              "    <tr>\n",
              "      <th>86224</th>\n",
              "      <td>86231</td>\n",
              "      <td>SQL/086231.sql</td>\n",
              "      <td>333</td>\n",
              "      <td>18</td>\n",
              "      <td>sql</td>\n",
              "      <td>SQL</td>\n",
              "      <td>CREATE SCHEMA TestSchema;\\nGO\\n\\nCREATE TABLE ...</td>\n",
              "      <td>create schema testschema\\ngo\\n\\ncreate table t...</td>\n",
              "      <td>18</td>\n",
              "      <td>253</td>\n",
              "    </tr>\n",
              "    <tr>\n",
              "      <th>86225</th>\n",
              "      <td>86232</td>\n",
              "      <td>SQL/086232.sql</td>\n",
              "      <td>420</td>\n",
              "      <td>8</td>\n",
              "      <td>sql</td>\n",
              "      <td>SQL</td>\n",
              "      <td>WITH a AS (SELECT * FROM (VALUES(1),(2),(3),(4...</td>\n",
              "      <td>with a as select  from values12345678910 as aa...</td>\n",
              "      <td>8</td>\n",
              "      <td>304</td>\n",
              "    </tr>\n",
              "    <tr>\n",
              "      <th>86226</th>\n",
              "      <td>86233</td>\n",
              "      <td>SQL/086233.sql</td>\n",
              "      <td>333</td>\n",
              "      <td>18</td>\n",
              "      <td>sql</td>\n",
              "      <td>SQL</td>\n",
              "      <td>CREATE SCHEMA TestSchema;\\nGO\\n\\nCREATE TABLE ...</td>\n",
              "      <td>create schema testschema\\ngo\\n\\ncreate table t...</td>\n",
              "      <td>18</td>\n",
              "      <td>253</td>\n",
              "    </tr>\n",
              "  </tbody>\n",
              "</table>\n",
              "<p>86169 rows × 10 columns</p>\n",
              "</div>\n",
              "    <div class=\"colab-df-buttons\">\n",
              "\n",
              "  <div class=\"colab-df-container\">\n",
              "    <button class=\"colab-df-convert\" onclick=\"convertToInteractive('df-ca5b435d-d221-4052-9132-fec96c9d0f91')\"\n",
              "            title=\"Convert this dataframe to an interactive table.\"\n",
              "            style=\"display:none;\">\n",
              "\n",
              "  <svg xmlns=\"http://www.w3.org/2000/svg\" height=\"24px\" viewBox=\"0 -960 960 960\">\n",
              "    <path d=\"M120-120v-720h720v720H120Zm60-500h600v-160H180v160Zm220 220h160v-160H400v160Zm0 220h160v-160H400v160ZM180-400h160v-160H180v160Zm440 0h160v-160H620v160ZM180-180h160v-160H180v160Zm440 0h160v-160H620v160Z\"/>\n",
              "  </svg>\n",
              "    </button>\n",
              "\n",
              "  <style>\n",
              "    .colab-df-container {\n",
              "      display:flex;\n",
              "      gap: 12px;\n",
              "    }\n",
              "\n",
              "    .colab-df-convert {\n",
              "      background-color: #E8F0FE;\n",
              "      border: none;\n",
              "      border-radius: 50%;\n",
              "      cursor: pointer;\n",
              "      display: none;\n",
              "      fill: #1967D2;\n",
              "      height: 32px;\n",
              "      padding: 0 0 0 0;\n",
              "      width: 32px;\n",
              "    }\n",
              "\n",
              "    .colab-df-convert:hover {\n",
              "      background-color: #E2EBFA;\n",
              "      box-shadow: 0px 1px 2px rgba(60, 64, 67, 0.3), 0px 1px 3px 1px rgba(60, 64, 67, 0.15);\n",
              "      fill: #174EA6;\n",
              "    }\n",
              "\n",
              "    .colab-df-buttons div {\n",
              "      margin-bottom: 4px;\n",
              "    }\n",
              "\n",
              "    [theme=dark] .colab-df-convert {\n",
              "      background-color: #3B4455;\n",
              "      fill: #D2E3FC;\n",
              "    }\n",
              "\n",
              "    [theme=dark] .colab-df-convert:hover {\n",
              "      background-color: #434B5C;\n",
              "      box-shadow: 0px 1px 3px 1px rgba(0, 0, 0, 0.15);\n",
              "      filter: drop-shadow(0px 1px 2px rgba(0, 0, 0, 0.3));\n",
              "      fill: #FFFFFF;\n",
              "    }\n",
              "  </style>\n",
              "\n",
              "    <script>\n",
              "      const buttonEl =\n",
              "        document.querySelector('#df-ca5b435d-d221-4052-9132-fec96c9d0f91 button.colab-df-convert');\n",
              "      buttonEl.style.display =\n",
              "        google.colab.kernel.accessAllowed ? 'block' : 'none';\n",
              "\n",
              "      async function convertToInteractive(key) {\n",
              "        const element = document.querySelector('#df-ca5b435d-d221-4052-9132-fec96c9d0f91');\n",
              "        const dataTable =\n",
              "          await google.colab.kernel.invokeFunction('convertToInteractive',\n",
              "                                                    [key], {});\n",
              "        if (!dataTable) return;\n",
              "\n",
              "        const docLinkHtml = 'Like what you see? Visit the ' +\n",
              "          '<a target=\"_blank\" href=https://colab.research.google.com/notebooks/data_table.ipynb>data table notebook</a>'\n",
              "          + ' to learn more about interactive tables.';\n",
              "        element.innerHTML = '';\n",
              "        dataTable['output_type'] = 'display_data';\n",
              "        await google.colab.output.renderOutput(dataTable, element);\n",
              "        const docLink = document.createElement('div');\n",
              "        docLink.innerHTML = docLinkHtml;\n",
              "        element.appendChild(docLink);\n",
              "      }\n",
              "    </script>\n",
              "  </div>\n",
              "\n",
              "\n",
              "    <div id=\"df-a34b16da-6d42-40b2-a56c-be086afb7c1d\">\n",
              "      <button class=\"colab-df-quickchart\" onclick=\"quickchart('df-a34b16da-6d42-40b2-a56c-be086afb7c1d')\"\n",
              "                title=\"Suggest charts\"\n",
              "                style=\"display:none;\">\n",
              "\n",
              "<svg xmlns=\"http://www.w3.org/2000/svg\" height=\"24px\"viewBox=\"0 0 24 24\"\n",
              "     width=\"24px\">\n",
              "    <g>\n",
              "        <path d=\"M19 3H5c-1.1 0-2 .9-2 2v14c0 1.1.9 2 2 2h14c1.1 0 2-.9 2-2V5c0-1.1-.9-2-2-2zM9 17H7v-7h2v7zm4 0h-2V7h2v10zm4 0h-2v-4h2v4z\"/>\n",
              "    </g>\n",
              "</svg>\n",
              "      </button>\n",
              "\n",
              "<style>\n",
              "  .colab-df-quickchart {\n",
              "      --bg-color: #E8F0FE;\n",
              "      --fill-color: #1967D2;\n",
              "      --hover-bg-color: #E2EBFA;\n",
              "      --hover-fill-color: #174EA6;\n",
              "      --disabled-fill-color: #AAA;\n",
              "      --disabled-bg-color: #DDD;\n",
              "  }\n",
              "\n",
              "  [theme=dark] .colab-df-quickchart {\n",
              "      --bg-color: #3B4455;\n",
              "      --fill-color: #D2E3FC;\n",
              "      --hover-bg-color: #434B5C;\n",
              "      --hover-fill-color: #FFFFFF;\n",
              "      --disabled-bg-color: #3B4455;\n",
              "      --disabled-fill-color: #666;\n",
              "  }\n",
              "\n",
              "  .colab-df-quickchart {\n",
              "    background-color: var(--bg-color);\n",
              "    border: none;\n",
              "    border-radius: 50%;\n",
              "    cursor: pointer;\n",
              "    display: none;\n",
              "    fill: var(--fill-color);\n",
              "    height: 32px;\n",
              "    padding: 0;\n",
              "    width: 32px;\n",
              "  }\n",
              "\n",
              "  .colab-df-quickchart:hover {\n",
              "    background-color: var(--hover-bg-color);\n",
              "    box-shadow: 0 1px 2px rgba(60, 64, 67, 0.3), 0 1px 3px 1px rgba(60, 64, 67, 0.15);\n",
              "    fill: var(--button-hover-fill-color);\n",
              "  }\n",
              "\n",
              "  .colab-df-quickchart-complete:disabled,\n",
              "  .colab-df-quickchart-complete:disabled:hover {\n",
              "    background-color: var(--disabled-bg-color);\n",
              "    fill: var(--disabled-fill-color);\n",
              "    box-shadow: none;\n",
              "  }\n",
              "\n",
              "  .colab-df-spinner {\n",
              "    border: 2px solid var(--fill-color);\n",
              "    border-color: transparent;\n",
              "    border-bottom-color: var(--fill-color);\n",
              "    animation:\n",
              "      spin 1s steps(1) infinite;\n",
              "  }\n",
              "\n",
              "  @keyframes spin {\n",
              "    0% {\n",
              "      border-color: transparent;\n",
              "      border-bottom-color: var(--fill-color);\n",
              "      border-left-color: var(--fill-color);\n",
              "    }\n",
              "    20% {\n",
              "      border-color: transparent;\n",
              "      border-left-color: var(--fill-color);\n",
              "      border-top-color: var(--fill-color);\n",
              "    }\n",
              "    30% {\n",
              "      border-color: transparent;\n",
              "      border-left-color: var(--fill-color);\n",
              "      border-top-color: var(--fill-color);\n",
              "      border-right-color: var(--fill-color);\n",
              "    }\n",
              "    40% {\n",
              "      border-color: transparent;\n",
              "      border-right-color: var(--fill-color);\n",
              "      border-top-color: var(--fill-color);\n",
              "    }\n",
              "    60% {\n",
              "      border-color: transparent;\n",
              "      border-right-color: var(--fill-color);\n",
              "    }\n",
              "    80% {\n",
              "      border-color: transparent;\n",
              "      border-right-color: var(--fill-color);\n",
              "      border-bottom-color: var(--fill-color);\n",
              "    }\n",
              "    90% {\n",
              "      border-color: transparent;\n",
              "      border-bottom-color: var(--fill-color);\n",
              "    }\n",
              "  }\n",
              "</style>\n",
              "\n",
              "      <script>\n",
              "        async function quickchart(key) {\n",
              "          const quickchartButtonEl =\n",
              "            document.querySelector('#' + key + ' button');\n",
              "          quickchartButtonEl.disabled = true;  // To prevent multiple clicks.\n",
              "          quickchartButtonEl.classList.add('colab-df-spinner');\n",
              "          try {\n",
              "            const charts = await google.colab.kernel.invokeFunction(\n",
              "                'suggestCharts', [key], {});\n",
              "          } catch (error) {\n",
              "            console.error('Error during call to suggestCharts:', error);\n",
              "          }\n",
              "          quickchartButtonEl.classList.remove('colab-df-spinner');\n",
              "          quickchartButtonEl.classList.add('colab-df-quickchart-complete');\n",
              "        }\n",
              "        (() => {\n",
              "          let quickchartButtonEl =\n",
              "            document.querySelector('#df-a34b16da-6d42-40b2-a56c-be086afb7c1d button');\n",
              "          quickchartButtonEl.style.display =\n",
              "            google.colab.kernel.accessAllowed ? 'block' : 'none';\n",
              "        })();\n",
              "      </script>\n",
              "    </div>\n",
              "\n",
              "    </div>\n",
              "  </div>\n"
            ],
            "application/vnd.google.colaboratory.intrinsic+json": {
              "type": "dataframe",
              "summary": "{\n  \"name\": \"df\",\n  \"rows\": 86169,\n  \"fields\": [\n    {\n      \"column\": \"id\",\n      \"properties\": {\n        \"dtype\": \"number\",\n        \"std\": 24894,\n        \"min\": 1,\n        \"max\": 86233,\n        \"num_unique_values\": 86169,\n        \"samples\": [\n          62710,\n          78388,\n          11876\n        ],\n        \"semantic_type\": \"\",\n        \"description\": \"\"\n      }\n    },\n    {\n      \"column\": \"file_path\",\n      \"properties\": {\n        \"dtype\": \"string\",\n        \"num_unique_values\": 86169,\n        \"samples\": [\n          \"Ruby/062710.rb\",\n          \"Rust/078388.rs\",\n          \"JSON/011876.json\"\n        ],\n        \"semantic_type\": \"\",\n        \"description\": \"\"\n      }\n    },\n    {\n      \"column\": \"file_size\",\n      \"properties\": {\n        \"dtype\": \"number\",\n        \"std\": 288622,\n        \"min\": 1,\n        \"max\": 27009979,\n        \"num_unique_values\": 18668,\n        \"samples\": [\n          3373,\n          13298,\n          12356\n        ],\n        \"semantic_type\": \"\",\n        \"description\": \"\"\n      }\n    },\n    {\n      \"column\": \"line_count\",\n      \"properties\": {\n        \"dtype\": \"number\",\n        \"std\": 4911,\n        \"min\": 0,\n        \"max\": 580544,\n        \"num_unique_values\": 2721,\n        \"samples\": [\n          3794,\n          345,\n          1793\n        ],\n        \"semantic_type\": \"\",\n        \"description\": \"\"\n      }\n    },\n    {\n      \"column\": \"extension\",\n      \"properties\": {\n        \"dtype\": \"category\",\n        \"num_unique_values\": 129,\n        \"samples\": [\n          \"eex\",\n          \"cc\",\n          \"psd1\"\n        ],\n        \"semantic_type\": \"\",\n        \"description\": \"\"\n      }\n    },\n    {\n      \"column\": \"language\",\n      \"properties\": {\n        \"dtype\": \"category\",\n        \"num_unique_values\": 77,\n        \"samples\": [\n          \"Dockerfile\",\n          \"Prolog\",\n          \"SVG\"\n        ],\n        \"semantic_type\": \"\",\n        \"description\": \"\"\n      }\n    },\n    {\n      \"column\": \"code\",\n      \"properties\": {\n        \"dtype\": \"string\",\n        \"num_unique_values\": 83424,\n        \"samples\": [\n          \"<?php\\n\\n/*\\n *\\n *  ____            _        _   __  __ _                  __  __ ____\\n * |  _ \\\\ ___   ___| | _____| |_|  \\\\/  (_)_ __   ___      |  \\\\/  |  _ \\\\\\n * | |_) / _ \\\\ / __| |/ / _ \\\\ __| |\\\\/| | | '_ \\\\ / _ \\\\_____| |\\\\/| | |_) |\\n * |  __/ (_) | (__|   <  __/ |_| |  | | | | | |  __/_____| |  | |  __/\\n * |_|   \\\\___/ \\\\___|_|\\\\_\\\\___|\\\\__|_|  |_|_|_| |_|\\\\___|     |_|  |_|_|\\n *\\n * This program is free software: you can redistribute it and/or modify\\n * it under the terms of the GNU Lesser General Public License as published by\\n * the Free Software Foundation, either version 3 of the License, or\\n * (at your option) any later version.\\n *\\n * @author PocketMine Team\\n * @link http://www.pocketmine.net/\\n *\\n *\\n*/\\n\\ndeclare(strict_types=1);\\n\\nnamespace pocketmine\\\\item;\\n\\nuse pocketmine\\\\block\\\\Block;\\nuse pocketmine\\\\block\\\\BlockToolType;\\nuse pocketmine\\\\entity\\\\Entity;\\n\\nclass Axe extends TieredTool{\\n\\n\\tpublic function getBlockToolType() : int{\\n\\t\\treturn BlockToolType::AXE;\\n\\t}\\n\\n\\tpublic function getBlockToolHarvestLevel() : int{\\n\\t\\treturn $this->tier->getHarvestLevel();\\n\\t}\\n\\n\\tpublic function getAttackPoints() : int{\\n\\t\\treturn $this->tier->getBaseAttackPoints() - 1;\\n\\t}\\n\\n\\tpublic function onDestroyBlock(Block $block) : bool{\\n\\t\\tif(!$block->getBreakInfo()->breaksInstantly()){\\n\\t\\t\\treturn $this->applyDamage(1);\\n\\t\\t}\\n\\t\\treturn false;\\n\\t}\\n\\n\\tpublic function onAttackEntity(Entity $victim) : bool{\\n\\t\\treturn $this->applyDamage(2);\\n\\t}\\n}\\n\",\n          \"// TODO(multitest): This was automatically migrated from a multitest and may\\n// contain strange or dead code.\\n\\n// Copyright (c) 2011, the Dart project authors.  Please see the AUTHORS file\\n// for details. All rights reserved. Use of this source code is governed by a\\n// BSD-style license that can be found in the LICENSE file.\\n\\nmain() {\\n  L:\\n  while (false) {\\n    break;\\n\\n    void innerfunc() {\\n      // Illegal: jump target is outside of function\\n\\n    }\\n\\n    innerfunc();\\n  }\\n}\\n\",\n          \"// Copyright (c) 2014, the Dart project authors. Please see the AUTHORS file\\n// for details. All rights reserved. Use of this source code is governed by a\\n// BSD-style license that can be found in the LICENSE file.\\n\\nimport 'package:analyzer/file_system/file_system.dart';\\nimport 'package:analyzer/file_system/memory_file_system.dart';\\nimport 'package:analyzer/src/generated/source.dart';\\nimport 'package:analyzer/src/source/package_map_resolver.dart';\\nimport 'package:path/path.dart';\\nimport 'package:test/test.dart';\\nimport 'package:test_reflective_loader/test_reflective_loader.dart';\\n\\nmain() {\\n  defineReflectiveSuite(() {\\n    defineReflectiveTests(_PackageMapUriResolverTest);\\n  });\\n}\\n\\n@reflectiveTest\\nclass _PackageMapUriResolverTest {\\n  static const Map<String, List<Folder>> EMPTY_MAP = <String, List<Folder>>{};\\n  MemoryResourceProvider provider = MemoryResourceProvider();\\n\\n  void test_isPackageUri() {\\n    Uri uri = Uri.parse('package:test/test.dart');\\n    expect(uri.scheme, 'package');\\n    expect(PackageMapUriResolver.isPackageUri(uri), isTrue);\\n  }\\n\\n  void test_isPackageUri_null_scheme() {\\n    Uri uri = Uri.parse('foo.dart');\\n    expect(uri.scheme, '');\\n    expect(PackageMapUriResolver.isPackageUri(uri), isFalse);\\n  }\\n\\n  void test_isPackageUri_other_scheme() {\\n    Uri uri = Uri.parse('memfs:/foo.dart');\\n    expect(uri.scheme, 'memfs');\\n    expect(PackageMapUriResolver.isPackageUri(uri), isFalse);\\n  }\\n\\n  void test_pathToUri() {\\n    String pkgFileA = provider.convertPath('/pkgA/lib/libA.dart');\\n    String pkgFileB = provider.convertPath('/pkgB/lib/src/libB.dart');\\n    provider.newFile(pkgFileA, 'library lib_a;');\\n    provider.newFile(pkgFileB, 'library lib_b;');\\n    PackageMapUriResolver resolver =\\n        PackageMapUriResolver(provider, <String, List<Folder>>{\\n      'pkgA': <Folder>[provider.getFolder(provider.convertPath('/pkgA/lib'))],\\n      'pkgB': <Folder>[provider.getFolder(provider.convertPath('/pkgB/lib'))]\\n    });\\n    {\\n      var path = provider.convertPath('/pkgA/lib/libA.dart');\\n      var uri = resolver.pathToUri(path);\\n      expect(uri, Uri.parse('package:pkgA/libA.dart'));\\n    }\\n    {\\n      var path = provider.convertPath('/pkgB/lib/src/libB.dart');\\n      var uri = resolver.pathToUri(path);\\n      expect(uri, Uri.parse('package:pkgB/src/libB.dart'));\\n    }\\n    {\\n      var path = provider.convertPath('/no/such/file');\\n      var uri = resolver.pathToUri(path);\\n      expect(uri, isNull);\\n    }\\n  }\\n\\n  void test_resolve_multiple_folders() {\\n    var a = provider.newFile(provider.convertPath('/aaa/a.dart'), '');\\n    var b = provider.newFile(provider.convertPath('/bbb/b.dart'), '');\\n    expect(() {\\n      PackageMapUriResolver(provider, <String, List<Folder>>{\\n        'pkg': <Folder>[a.parent, b.parent]\\n      });\\n    }, throwsArgumentError);\\n  }\\n\\n  void test_resolve_nonPackage() {\\n    UriResolver resolver = PackageMapUriResolver(provider, EMPTY_MAP);\\n    Uri uri = Uri.parse('dart:core');\\n    var result = resolver.resolveAbsolute(uri);\\n    expect(result, isNull);\\n  }\\n\\n  void test_resolve_OK() {\\n    String pkgFileA = provider.convertPath('/pkgA/lib/libA.dart');\\n    String pkgFileB = provider.convertPath('/pkgB/lib/libB.dart');\\n    provider.newFile(pkgFileA, 'library lib_a;');\\n    provider.newFile(pkgFileB, 'library lib_b;');\\n    PackageMapUriResolver resolver =\\n        PackageMapUriResolver(provider, <String, List<Folder>>{\\n      'pkgA': <Folder>[provider.getFolder(provider.convertPath('/pkgA/lib'))],\\n      'pkgB': <Folder>[provider.getFolder(provider.convertPath('/pkgB/lib'))]\\n    });\\n    {\\n      Uri uri = Uri.parse('package:pkgA/libA.dart');\\n      var result = resolver.resolveAbsolute(uri)!;\\n      expect(result.exists(), isTrue);\\n      expect(result.uri, uri);\\n      expect(result.fullName, pkgFileA);\\n    }\\n    {\\n      Uri uri = Uri.parse('package:pkgB/libB.dart');\\n      var result = resolver.resolveAbsolute(uri)!;\\n      expect(result.exists(), isTrue);\\n      expect(result.uri, uri);\\n      expect(result.fullName, pkgFileB);\\n    }\\n  }\\n\\n  void test_resolve_OK_withNonAscii() {\\n    var resolver = PackageMapUriResolver(provider, {\\n      'aaa': <Folder>[\\n        provider.getFolder(\\n          provider.convertPath('/packages/aaa/lib'),\\n        ),\\n      ],\\n    });\\n\\n    var uri = Uri.parse('package:aaa/\\u043f\\u0440\\u043e\\u0431\\u0430/a.dart');\\n    var result = resolver.resolveAbsolute(uri)!;\\n    expect(\\n      result.fullName,\\n      provider.convertPath('/packages/aaa/lib/\\u043f\\u0440\\u043e\\u0431\\u0430/a.dart'),\\n    );\\n  }\\n\\n  void test_resolve_OK_withSpace() {\\n    var resolver = PackageMapUriResolver(provider, {\\n      'aaa': <Folder>[\\n        provider.getFolder(\\n          provider.convertPath('/packages/aaa/lib'),\\n        ),\\n      ],\\n    });\\n\\n    var uri = Uri.parse('package:aaa/with space/a.dart');\\n    var result = resolver.resolveAbsolute(uri)!;\\n    expect(\\n      result.fullName,\\n      provider.convertPath('/packages/aaa/lib/with space/a.dart'),\\n    );\\n  }\\n\\n  void test_resolve_package_invalid_leadingSlash() {\\n    UriResolver resolver = PackageMapUriResolver(provider, EMPTY_MAP);\\n    Uri uri = Uri.parse('package:/foo');\\n    var result = resolver.resolveAbsolute(uri);\\n    expect(result, isNull);\\n  }\\n\\n  void test_resolve_package_invalid_noSlash() {\\n    UriResolver resolver = PackageMapUriResolver(provider, EMPTY_MAP);\\n    Uri uri = Uri.parse('package:foo');\\n    var result = resolver.resolveAbsolute(uri);\\n    expect(result, isNull);\\n  }\\n\\n  void test_resolve_package_invalid_onlySlash() {\\n    UriResolver resolver = PackageMapUriResolver(provider, EMPTY_MAP);\\n    Uri uri = Uri.parse('package:/');\\n    var result = resolver.resolveAbsolute(uri);\\n    expect(result, isNull);\\n  }\\n\\n  void test_resolve_package_notInMap() {\\n    UriResolver resolver = PackageMapUriResolver(provider, EMPTY_MAP);\\n    Uri uri = Uri.parse('package:analyzer/analyzer.dart');\\n    var result = resolver.resolveAbsolute(uri);\\n    expect(result, isNull);\\n  }\\n\\n  @Deprecated('Use pathToUri() instead')\\n  void test_restoreAbsolute() {\\n    String pkgFileA = provider.convertPath('/pkgA/lib/libA.dart');\\n    String pkgFileB = provider.convertPath('/pkgB/lib/src/libB.dart');\\n    provider.newFile(pkgFileA, 'library lib_a;');\\n    provider.newFile(pkgFileB, 'library lib_b;');\\n    PackageMapUriResolver resolver =\\n        PackageMapUriResolver(provider, <String, List<Folder>>{\\n      'pkgA': <Folder>[provider.getFolder(provider.convertPath('/pkgA/lib'))],\\n      'pkgB': <Folder>[provider.getFolder(provider.convertPath('/pkgB/lib'))]\\n    });\\n    {\\n      Source source =\\n          _createFileSource(provider.convertPath('/pkgA/lib/libA.dart'));\\n      var uri = resolver.restoreAbsolute(source)!;\\n      expect(uri.toString(), 'package:pkgA/libA.dart');\\n    }\\n    {\\n      Source source =\\n          _createFileSource(provider.convertPath('/pkgB/lib/src/libB.dart'));\\n      var uri = resolver.restoreAbsolute(source)!;\\n      expect(uri.toString(), 'package:pkgB/src/libB.dart');\\n    }\\n    {\\n      Source source = _createFileSource('/no/such/file');\\n      var uri = resolver.restoreAbsolute(source);\\n      expect(uri, isNull);\\n    }\\n  }\\n\\n  @Deprecated('Use pathToUri() instead')\\n  Source _createFileSource(String path) {\\n    return NonExistingSource(path, toUri(path));\\n  }\\n}\\n\"\n        ],\n        \"semantic_type\": \"\",\n        \"description\": \"\"\n      }\n    },\n    {\n      \"column\": \"clean_code\",\n      \"properties\": {\n        \"dtype\": \"string\",\n        \"num_unique_values\": 81136,\n        \"samples\": [\n          \" copyright c 2018 the dart project authors please see the authors file\\n for details all rights reserved use of this source code is governed by a\\n bsdstyle license that can be found in the license file\\n\\nimport \\nimport  show directory platform processsignal exit\\n\\nimport \\nimport \\nimport \\nimport \\nimport  as path\\nimport \\n\\n a simple application that uses the analysis server to analyze a package\\nvoid mainliststring args async \\n  var target  await parseargsargs\\n  print\\n\\n   launch the server\\n  var server  server\\n  await serverstart\\n\\n   connect to the server\\n  var handler  _handlerserver\\n  serverlistentooutputnotificationprocessor handlerhandleevent\\n  if await handlerserverconnectedtimelimit const durationseconds 15 \\n    exit1\\n  \\n\\n   request analysis\\n  await serversendserver_request_set_subscriptions\\n      serversetsubscriptionsparamsserverservicestatustojson\\n  await serversendanalysis_request_set_analysis_roots\\n      analysissetanalysisrootsparamstarget const tojson\\n\\n   continue to watch for analysis until the user presses ctrlc\\n  late streamsubscriptionprocesssignal subscription\\n  subscription  processsignalsigintwatchlisten_ async \\n    print\\n     ignore unawaited_futures\\n    subscriptioncancel\\n    await serverstop\\n  \\n\\n\\nfuturestring parseargsliststring args async \\n  if argslength  1 \\n    printusageandexit\\n  \\n  final dir  directorypathnormalizepathabsoluteargs0\\n  if await direxists \\n    printusageandexit\\n  \\n  return dirpath\\n\\n\\nvoid printusageandexitstring errormessage \\n  printerrormessage\\n  print\\n  var appname  pathbasenameplatformscripttofilepath\\n  print\\n  print\\n  exit1\\n\\n\\nclass _handler with notificationhandler connectionhandler \\n  override\\n  final server server\\n  int errorcount  0\\n\\n  _handlerthisserver\\n\\n  override\\n  void onanalysiserrorsanalysiserrorsparams params \\n    var errors  paramserrors\\n    var first  true\\n    for var error in errors \\n      if errortypename   \\n         ignore these types of \\n        continue\\n      \\n      if first \\n        first  false\\n        print\\n      \\n      var loc  errorlocation\\n      print\\n      errorcount\\n    \\n  \\n\\n  override\\n  void onfailedtoconnect \\n    print\\n  \\n\\n  override\\n  void onprotocolnotsupportedversion version \\n    print\\n  \\n\\n  override\\n  void onservererrorservererrorparams params \\n    if paramsisfatal \\n      print\\n     else \\n      print\\n    \\n    printparamsstacktrace\\n    superonservererrorparams\\n  \\n\\n  override\\n  void onserverstatusserverstatusparams params \\n    var analysisstatus  paramsanalysis\\n    if analysisstatus  null  analysisstatusisanalyzing \\n       whenever the server stops analyzing\\n       print a brief summary of what issues have been found\\n      if errorcount  0 \\n        print\\n       else \\n        print\\n      \\n      errorcount  0\\n      print\\n    \\n  \\n\\n\",\n          \"\\n  file\\n  brief problem 1httpsprojecteulernetproblem1 solution\\n  this solution is based on the pattern that the successive numbers in the\\n  series follow 03213123\\n \\n  if we list all the natural numbers below 10 that are multiples of 3 or 5\\n  we get 356 and 9 the sum of these multiples is 23\\n  find the sum of all the multiples of 3 or 5 below n\\n \\ninclude stdioh\\n\\n main function \\nint main\\n\\n    int n  0\\n    int sum  0\\n    int num  0\\n    scanf n\\n\\n    while 1\\n    \\n        num  3\\n        if num  n\\n            break\\n        sum  num\\n        num  2\\n        if num  n\\n            break\\n        sum  num\\n        num  1\\n        if num  n\\n            break\\n        sum  num\\n        num  3\\n        if num  n\\n            break\\n        sum  num\\n        num  1\\n        if num  n\\n            break\\n        sum  num\\n        num  2\\n        if num  n\\n            break\\n        sum  num\\n        num  3\\n        if num  n\\n            break\\n        sum  num\\n    \\n\\n    printf sum\\n    return 0\\n\",\n          \" errorcheck\\n\\n copyright 2015 the go authors all rights reserved\\n use of this source code is governed by a bsdstyle\\n license that can be found in the license file\\n\\npackage main\\n\\nvar \\n\\ta b  f  error \\n\\tc     b    gccgo_error \\n\\n\\nfunc f int int \\n\\treturn c c\\n\\n\\nfunc main \\n\"\n        ],\n        \"semantic_type\": \"\",\n        \"description\": \"\"\n      }\n    },\n    {\n      \"column\": \"clean_line_count\",\n      \"properties\": {\n        \"dtype\": \"number\",\n        \"std\": 144,\n        \"min\": 1,\n        \"max\": 10000,\n        \"num_unique_values\": 988,\n        \"samples\": [\n          266,\n          279,\n          637\n        ],\n        \"semantic_type\": \"\",\n        \"description\": \"\"\n      }\n    },\n    {\n      \"column\": \"clean_size\",\n      \"properties\": {\n        \"dtype\": \"number\",\n        \"std\": 3136,\n        \"min\": 1,\n        \"max\": 11175,\n        \"num_unique_values\": 8536,\n        \"samples\": [\n          7740,\n          3271,\n          3328\n        ],\n        \"semantic_type\": \"\",\n        \"description\": \"\"\n      }\n    }\n  ]\n}"
            }
          },
          "metadata": {},
          "execution_count": 23
        }
      ],
      "source": [
        "df.dropna()"
      ]
    },
    {
      "cell_type": "code",
      "execution_count": null,
      "id": "ddc6e4d5-7b6a-4688-8a15-0b2140d30173",
      "metadata": {
        "id": "ddc6e4d5-7b6a-4688-8a15-0b2140d30173",
        "colab": {
          "base_uri": "https://localhost:8080/"
        },
        "outputId": "302209da-2987-4cf5-95a8-a67ce69bf25e"
      },
      "outputs": [
        {
          "output_type": "stream",
          "name": "stdout",
          "text": [
            "language\n",
            "Dart          15345\n",
            "Rust          14128\n",
            "C#            10000\n",
            "Go             9124\n",
            "JSON           5570\n",
            "              ...  \n",
            "Puppet           12\n",
            "RDoc             11\n",
            "SourcePawn       11\n",
            "Pascal           11\n",
            "Gradle           10\n",
            "Name: count, Length: 61, dtype: int64\n"
          ]
        }
      ],
      "source": [
        "min_count = 10  # threshold\n",
        "counts = df[\"language\"].value_counts()\n",
        "\n",
        "df[\"language\"] = df[\"language\"].apply(\n",
        "    lambda x: x if counts[x] >= min_count else \"Other\"\n",
        ")\n",
        "\n",
        "print(df[\"language\"].value_counts())"
      ]
    },
    {
      "cell_type": "code",
      "execution_count": null,
      "id": "72cd8923-0786-4475-877b-f9e393135359",
      "metadata": {
        "id": "72cd8923-0786-4475-877b-f9e393135359",
        "colab": {
          "base_uri": "https://localhost:8080/"
        },
        "outputId": "7a45033d-3ce0-4403-8478-53a0d10a8c0a"
      },
      "outputs": [
        {
          "output_type": "stream",
          "name": "stdout",
          "text": [
            "id                   0\n",
            "file_path            0\n",
            "file_size            0\n",
            "line_count           0\n",
            "extension            0\n",
            "language             0\n",
            "code                56\n",
            "clean_code          58\n",
            "clean_line_count     0\n",
            "clean_size           0\n",
            "dtype: int64\n",
            "Rows with missing values: 58\n"
          ]
        }
      ],
      "source": [
        "print(df.isnull().sum())\n",
        "\n",
        "# Check how many rows in total have any missing value\n",
        "print(\"Rows with missing values:\", df.isnull().any(axis=1).sum())"
      ]
    },
    {
      "cell_type": "markdown",
      "id": "0458a655-5823-49be-922e-4a40d7814c13",
      "metadata": {
        "id": "0458a655-5823-49be-922e-4a40d7814c13"
      },
      "source": [
        "# start implimenting your model (split data intilize the model extra )"
      ]
    },
    {
      "cell_type": "code",
      "execution_count": null,
      "id": "7fb640cc-f3f8-4061-a1dc-a742c55960c8",
      "metadata": {
        "id": "7fb640cc-f3f8-4061-a1dc-a742c55960c8"
      },
      "outputs": [],
      "source": []
    },
    {
      "cell_type": "code",
      "execution_count": null,
      "id": "d24f819c-6580-493f-b9e9-08e90b658cdb",
      "metadata": {
        "id": "d24f819c-6580-493f-b9e9-08e90b658cdb"
      },
      "outputs": [],
      "source": []
    },
    {
      "cell_type": "code",
      "execution_count": null,
      "id": "b4d39a05-87a5-4c8e-b815-67060c5a5a48",
      "metadata": {
        "id": "b4d39a05-87a5-4c8e-b815-67060c5a5a48"
      },
      "outputs": [],
      "source": []
    },
    {
      "cell_type": "code",
      "execution_count": null,
      "id": "bf8a182f-34b5-41c5-838a-d27dacc2e694",
      "metadata": {
        "id": "bf8a182f-34b5-41c5-838a-d27dacc2e694"
      },
      "outputs": [],
      "source": []
    },
    {
      "cell_type": "code",
      "execution_count": null,
      "id": "1d46cab7-d8fd-4143-bbd3-cdffc7b0f36e",
      "metadata": {
        "id": "1d46cab7-d8fd-4143-bbd3-cdffc7b0f36e"
      },
      "outputs": [],
      "source": []
    },
    {
      "cell_type": "markdown",
      "metadata": {
        "id": "a0bba6be"
      },
      "source": [
        "# Task\n",
        "Create a CNN + LSTM model using the provided data."
      ],
      "id": "a0bba6be"
    },
    {
      "cell_type": "markdown",
      "metadata": {
        "id": "2ffe538d"
      },
      "source": [
        "## Data preprocessing\n",
        "\n",
        "### Subtask:\n",
        "Prepare the data for the CNN-LSTM model. This includes handling missing values, encoding categorical features, and splitting the data into training and testing sets.\n"
      ],
      "id": "2ffe538d"
    },
    {
      "cell_type": "markdown",
      "metadata": {
        "id": "44d3c87a"
      },
      "source": [
        "**Reasoning**:\n",
        "Drop rows with missing values in the `clean_code` column, convert the `language` column to categorical codes, select features and target, and split the data into training and testing sets.\n",
        "\n"
      ],
      "id": "44d3c87a"
    },
    {
      "cell_type": "code",
      "metadata": {
        "colab": {
          "base_uri": "https://localhost:8080/"
        },
        "id": "4083ceda",
        "outputId": "8405764b-59f7-48e6-97a8-00e98fc50b9a"
      },
      "source": [
        "df.dropna(subset=[\"clean_code\"], inplace=True)\n",
        "\n",
        "df[\"language_code\"] = df[\"language\"].astype(\"category\").cat.codes\n",
        "\n",
        "X = df[[\"clean_size\", \"clean_line_count\", \"language_code\"]]\n",
        "y = df[\"language_code\"]\n",
        "\n",
        "from sklearn.model_selection import train_test_split\n",
        "\n",
        "X_train, X_test, y_train, y_test = train_test_split(\n",
        "    X, y, test_size=0.2, random_state=42\n",
        ")\n",
        "\n",
        "print(\"X_train shape:\", X_train.shape)\n",
        "print(\"X_test shape:\", X_test.shape)\n",
        "print(\"y_train shape:\", y_train.shape)\n",
        "print(\"y_test shape:\", y_test.shape)"
      ],
      "id": "4083ceda",
      "execution_count": null,
      "outputs": [
        {
          "output_type": "stream",
          "name": "stdout",
          "text": [
            "X_train shape: (68935, 3)\n",
            "X_test shape: (17234, 3)\n",
            "y_train shape: (68935,)\n",
            "y_test shape: (17234,)\n"
          ]
        }
      ]
    },
    {
      "cell_type": "markdown",
      "metadata": {
        "id": "05452c12"
      },
      "source": [
        "## Model definition\n",
        "\n",
        "### Subtask:\n",
        "Define the architecture of the CNN-LSTM model using TensorFlow or PyTorch. This will involve adding CNN layers for spatial feature extraction and LSTM layers for sequential pattern recognition.\n"
      ],
      "id": "05452c12"
    },
    {
      "cell_type": "markdown",
      "metadata": {
        "id": "df3728d8"
      },
      "source": [
        "**Reasoning**:\n",
        "Define the architecture of the CNN-LSTM model using TensorFlow.\n",
        "\n"
      ],
      "id": "df3728d8"
    },
    {
      "cell_type": "code",
      "metadata": {
        "colab": {
          "base_uri": "https://localhost:8080/",
          "height": 355
        },
        "id": "623f5c46",
        "outputId": "5eae3b28-1229-4a67-d40c-06b578e51c2a"
      },
      "source": [
        "from tensorflow.keras.models import Sequential\n",
        "from tensorflow.keras.layers import Conv1D, MaxPooling1D, LSTM, Dense, Reshape\n",
        "\n",
        "# Define the input shape based on X_train.\n",
        "# The shape should be (samples, timesteps, features).\n",
        "# Since our current features are not sequential in the timestep sense,\n",
        "# we will treat each feature as a single timestep for simplicity\n",
        "# or reshape if necessary for a more complex sequential interpretation.\n",
        "# For this subtask, we'll treat the 3 features as timesteps for the Conv1D.\n",
        "input_shape = (X_train.shape[1], 1) # (timesteps, features)\n",
        "\n",
        "model = Sequential()\n",
        "\n",
        "# Add Conv1D layer\n",
        "model.add(Reshape(input_shape, input_shape=(X_train.shape[1],))) # Reshape to add the timestep dimension\n",
        "model.add(Conv1D(filters=32, kernel_size=2, activation='relu', padding='same'))\n",
        "\n",
        "# Add MaxPooling1D layer\n",
        "model.add(MaxPooling1D(pool_size=2))\n",
        "\n",
        "# Add LSTM layer\n",
        "# We need to flatten or use a Dense layer after LSTM if not using return_sequences=True\n",
        "model.add(LSTM(units=50))\n",
        "\n",
        "# Add Dense layers\n",
        "num_classes = len(df[\"language_code\"].unique())\n",
        "model.add(Dense(units=num_classes, activation='softmax'))\n",
        "\n",
        "# Print the model summary\n",
        "model.summary()"
      ],
      "id": "623f5c46",
      "execution_count": null,
      "outputs": [
        {
          "output_type": "stream",
          "name": "stderr",
          "text": [
            "/usr/local/lib/python3.12/dist-packages/keras/src/layers/reshaping/reshape.py:39: UserWarning: Do not pass an `input_shape`/`input_dim` argument to a layer. When using Sequential models, prefer using an `Input(shape)` object as the first layer in the model instead.\n",
            "  super().__init__(**kwargs)\n"
          ]
        },
        {
          "output_type": "display_data",
          "data": {
            "text/plain": [
              "\u001b[1mModel: \"sequential_1\"\u001b[0m\n"
            ],
            "text/html": [
              "<pre style=\"white-space:pre;overflow-x:auto;line-height:normal;font-family:Menlo,'DejaVu Sans Mono',consolas,'Courier New',monospace\"><span style=\"font-weight: bold\">Model: \"sequential_1\"</span>\n",
              "</pre>\n"
            ]
          },
          "metadata": {}
        },
        {
          "output_type": "display_data",
          "data": {
            "text/plain": [
              "┏━━━━━━━━━━━━━━━━━━━━━━━━━━━━━━━━━┳━━━━━━━━━━━━━━━━━━━━━━━━┳━━━━━━━━━━━━━━━┓\n",
              "┃\u001b[1m \u001b[0m\u001b[1mLayer (type)                   \u001b[0m\u001b[1m \u001b[0m┃\u001b[1m \u001b[0m\u001b[1mOutput Shape          \u001b[0m\u001b[1m \u001b[0m┃\u001b[1m \u001b[0m\u001b[1m      Param #\u001b[0m\u001b[1m \u001b[0m┃\n",
              "┡━━━━━━━━━━━━━━━━━━━━━━━━━━━━━━━━━╇━━━━━━━━━━━━━━━━━━━━━━━━╇━━━━━━━━━━━━━━━┩\n",
              "│ reshape_1 (\u001b[38;5;33mReshape\u001b[0m)             │ (\u001b[38;5;45mNone\u001b[0m, \u001b[38;5;34m3\u001b[0m, \u001b[38;5;34m1\u001b[0m)           │             \u001b[38;5;34m0\u001b[0m │\n",
              "├─────────────────────────────────┼────────────────────────┼───────────────┤\n",
              "│ conv1d_1 (\u001b[38;5;33mConv1D\u001b[0m)               │ (\u001b[38;5;45mNone\u001b[0m, \u001b[38;5;34m3\u001b[0m, \u001b[38;5;34m32\u001b[0m)          │            \u001b[38;5;34m96\u001b[0m │\n",
              "├─────────────────────────────────┼────────────────────────┼───────────────┤\n",
              "│ max_pooling1d_1 (\u001b[38;5;33mMaxPooling1D\u001b[0m)  │ (\u001b[38;5;45mNone\u001b[0m, \u001b[38;5;34m1\u001b[0m, \u001b[38;5;34m32\u001b[0m)          │             \u001b[38;5;34m0\u001b[0m │\n",
              "├─────────────────────────────────┼────────────────────────┼───────────────┤\n",
              "│ lstm_1 (\u001b[38;5;33mLSTM\u001b[0m)                   │ (\u001b[38;5;45mNone\u001b[0m, \u001b[38;5;34m50\u001b[0m)             │        \u001b[38;5;34m16,600\u001b[0m │\n",
              "├─────────────────────────────────┼────────────────────────┼───────────────┤\n",
              "│ dense_1 (\u001b[38;5;33mDense\u001b[0m)                 │ (\u001b[38;5;45mNone\u001b[0m, \u001b[38;5;34m61\u001b[0m)             │         \u001b[38;5;34m3,111\u001b[0m │\n",
              "└─────────────────────────────────┴────────────────────────┴───────────────┘\n"
            ],
            "text/html": [
              "<pre style=\"white-space:pre;overflow-x:auto;line-height:normal;font-family:Menlo,'DejaVu Sans Mono',consolas,'Courier New',monospace\">┏━━━━━━━━━━━━━━━━━━━━━━━━━━━━━━━━━┳━━━━━━━━━━━━━━━━━━━━━━━━┳━━━━━━━━━━━━━━━┓\n",
              "┃<span style=\"font-weight: bold\"> Layer (type)                    </span>┃<span style=\"font-weight: bold\"> Output Shape           </span>┃<span style=\"font-weight: bold\">       Param # </span>┃\n",
              "┡━━━━━━━━━━━━━━━━━━━━━━━━━━━━━━━━━╇━━━━━━━━━━━━━━━━━━━━━━━━╇━━━━━━━━━━━━━━━┩\n",
              "│ reshape_1 (<span style=\"color: #0087ff; text-decoration-color: #0087ff\">Reshape</span>)             │ (<span style=\"color: #00d7ff; text-decoration-color: #00d7ff\">None</span>, <span style=\"color: #00af00; text-decoration-color: #00af00\">3</span>, <span style=\"color: #00af00; text-decoration-color: #00af00\">1</span>)           │             <span style=\"color: #00af00; text-decoration-color: #00af00\">0</span> │\n",
              "├─────────────────────────────────┼────────────────────────┼───────────────┤\n",
              "│ conv1d_1 (<span style=\"color: #0087ff; text-decoration-color: #0087ff\">Conv1D</span>)               │ (<span style=\"color: #00d7ff; text-decoration-color: #00d7ff\">None</span>, <span style=\"color: #00af00; text-decoration-color: #00af00\">3</span>, <span style=\"color: #00af00; text-decoration-color: #00af00\">32</span>)          │            <span style=\"color: #00af00; text-decoration-color: #00af00\">96</span> │\n",
              "├─────────────────────────────────┼────────────────────────┼───────────────┤\n",
              "│ max_pooling1d_1 (<span style=\"color: #0087ff; text-decoration-color: #0087ff\">MaxPooling1D</span>)  │ (<span style=\"color: #00d7ff; text-decoration-color: #00d7ff\">None</span>, <span style=\"color: #00af00; text-decoration-color: #00af00\">1</span>, <span style=\"color: #00af00; text-decoration-color: #00af00\">32</span>)          │             <span style=\"color: #00af00; text-decoration-color: #00af00\">0</span> │\n",
              "├─────────────────────────────────┼────────────────────────┼───────────────┤\n",
              "│ lstm_1 (<span style=\"color: #0087ff; text-decoration-color: #0087ff\">LSTM</span>)                   │ (<span style=\"color: #00d7ff; text-decoration-color: #00d7ff\">None</span>, <span style=\"color: #00af00; text-decoration-color: #00af00\">50</span>)             │        <span style=\"color: #00af00; text-decoration-color: #00af00\">16,600</span> │\n",
              "├─────────────────────────────────┼────────────────────────┼───────────────┤\n",
              "│ dense_1 (<span style=\"color: #0087ff; text-decoration-color: #0087ff\">Dense</span>)                 │ (<span style=\"color: #00d7ff; text-decoration-color: #00d7ff\">None</span>, <span style=\"color: #00af00; text-decoration-color: #00af00\">61</span>)             │         <span style=\"color: #00af00; text-decoration-color: #00af00\">3,111</span> │\n",
              "└─────────────────────────────────┴────────────────────────┴───────────────┘\n",
              "</pre>\n"
            ]
          },
          "metadata": {}
        },
        {
          "output_type": "display_data",
          "data": {
            "text/plain": [
              "\u001b[1m Total params: \u001b[0m\u001b[38;5;34m19,807\u001b[0m (77.37 KB)\n"
            ],
            "text/html": [
              "<pre style=\"white-space:pre;overflow-x:auto;line-height:normal;font-family:Menlo,'DejaVu Sans Mono',consolas,'Courier New',monospace\"><span style=\"font-weight: bold\"> Total params: </span><span style=\"color: #00af00; text-decoration-color: #00af00\">19,807</span> (77.37 KB)\n",
              "</pre>\n"
            ]
          },
          "metadata": {}
        },
        {
          "output_type": "display_data",
          "data": {
            "text/plain": [
              "\u001b[1m Trainable params: \u001b[0m\u001b[38;5;34m19,807\u001b[0m (77.37 KB)\n"
            ],
            "text/html": [
              "<pre style=\"white-space:pre;overflow-x:auto;line-height:normal;font-family:Menlo,'DejaVu Sans Mono',consolas,'Courier New',monospace\"><span style=\"font-weight: bold\"> Trainable params: </span><span style=\"color: #00af00; text-decoration-color: #00af00\">19,807</span> (77.37 KB)\n",
              "</pre>\n"
            ]
          },
          "metadata": {}
        },
        {
          "output_type": "display_data",
          "data": {
            "text/plain": [
              "\u001b[1m Non-trainable params: \u001b[0m\u001b[38;5;34m0\u001b[0m (0.00 B)\n"
            ],
            "text/html": [
              "<pre style=\"white-space:pre;overflow-x:auto;line-height:normal;font-family:Menlo,'DejaVu Sans Mono',consolas,'Courier New',monospace\"><span style=\"font-weight: bold\"> Non-trainable params: </span><span style=\"color: #00af00; text-decoration-color: #00af00\">0</span> (0.00 B)\n",
              "</pre>\n"
            ]
          },
          "metadata": {}
        }
      ]
    },
    {
      "cell_type": "markdown",
      "metadata": {
        "id": "d7aa2332"
      },
      "source": [
        "## Model compilation\n",
        "\n",
        "### Subtask:\n",
        "Compile the model by specifying the optimizer, loss function, and metrics.\n"
      ],
      "id": "d7aa2332"
    },
    {
      "cell_type": "markdown",
      "metadata": {
        "id": "9bbd4fb5"
      },
      "source": [
        "**Reasoning**:\n",
        "Compile the defined TensorFlow model with the specified optimizer, loss function, and metrics.\n",
        "\n"
      ],
      "id": "9bbd4fb5"
    },
    {
      "cell_type": "code",
      "metadata": {
        "id": "680467c7"
      },
      "source": [
        "model.compile(optimizer='adam',\n",
        "              loss='sparse_categorical_crossentropy',\n",
        "              metrics=['accuracy'])"
      ],
      "id": "680467c7",
      "execution_count": null,
      "outputs": []
    },
    {
      "cell_type": "markdown",
      "metadata": {
        "id": "11212bef"
      },
      "source": [
        "## Model training\n",
        "\n",
        "### Subtask:\n",
        "Train the CNN-LSTM model on the training data.\n"
      ],
      "id": "11212bef"
    },
    {
      "cell_type": "markdown",
      "metadata": {
        "id": "ffc48d59"
      },
      "source": [
        "**Reasoning**:\n",
        "Train the compiled model using the training data with specified epochs, batch size, and validation split, and store the training history.\n",
        "\n"
      ],
      "id": "ffc48d59"
    },
    {
      "cell_type": "code",
      "metadata": {
        "colab": {
          "base_uri": "https://localhost:8080/"
        },
        "id": "4a30fdf6",
        "outputId": "1c4b402b-6221-4cff-b70e-cb77ea8d1eaa"
      },
      "source": [
        "history = model.fit(X_train, y_train, epochs=20, batch_size=64, validation_split=0.2)"
      ],
      "id": "4a30fdf6",
      "execution_count": null,
      "outputs": [
        {
          "output_type": "stream",
          "name": "stdout",
          "text": [
            "Epoch 1/20\n",
            "\u001b[1m862/862\u001b[0m \u001b[32m━━━━━━━━━━━━━━━━━━━━\u001b[0m\u001b[37m\u001b[0m \u001b[1m9s\u001b[0m 7ms/step - accuracy: 0.2765 - loss: 2.7681 - val_accuracy: 0.4036 - val_loss: 2.2385\n",
            "Epoch 2/20\n",
            "\u001b[1m862/862\u001b[0m \u001b[32m━━━━━━━━━━━━━━━━━━━━\u001b[0m\u001b[37m\u001b[0m \u001b[1m5s\u001b[0m 6ms/step - accuracy: 0.4044 - loss: 2.2150 - val_accuracy: 0.4703 - val_loss: 2.0467\n",
            "Epoch 3/20\n",
            "\u001b[1m862/862\u001b[0m \u001b[32m━━━━━━━━━━━━━━━━━━━━\u001b[0m\u001b[37m\u001b[0m \u001b[1m4s\u001b[0m 4ms/step - accuracy: 0.4673 - loss: 2.0300 - val_accuracy: 0.4882 - val_loss: 1.9503\n",
            "Epoch 4/20\n",
            "\u001b[1m862/862\u001b[0m \u001b[32m━━━━━━━━━━━━━━━━━━━━\u001b[0m\u001b[37m\u001b[0m \u001b[1m6s\u001b[0m 5ms/step - accuracy: 0.4979 - loss: 1.8605 - val_accuracy: 0.5459 - val_loss: 1.6742\n",
            "Epoch 5/20\n",
            "\u001b[1m862/862\u001b[0m \u001b[32m━━━━━━━━━━━━━━━━━━━━\u001b[0m\u001b[37m\u001b[0m \u001b[1m7s\u001b[0m 8ms/step - accuracy: 0.5570 - loss: 1.6654 - val_accuracy: 0.5900 - val_loss: 1.5511\n",
            "Epoch 6/20\n",
            "\u001b[1m862/862\u001b[0m \u001b[32m━━━━━━━━━━━━━━━━━━━━\u001b[0m\u001b[37m\u001b[0m \u001b[1m4s\u001b[0m 4ms/step - accuracy: 0.5943 - loss: 1.5257 - val_accuracy: 0.6205 - val_loss: 1.3875\n",
            "Epoch 7/20\n",
            "\u001b[1m862/862\u001b[0m \u001b[32m━━━━━━━━━━━━━━━━━━━━\u001b[0m\u001b[37m\u001b[0m \u001b[1m4s\u001b[0m 4ms/step - accuracy: 0.6140 - loss: 1.4118 - val_accuracy: 0.6385 - val_loss: 1.2950\n",
            "Epoch 8/20\n",
            "\u001b[1m862/862\u001b[0m \u001b[32m━━━━━━━━━━━━━━━━━━━━\u001b[0m\u001b[37m\u001b[0m \u001b[1m5s\u001b[0m 6ms/step - accuracy: 0.6514 - loss: 1.2533 - val_accuracy: 0.6788 - val_loss: 1.1635\n",
            "Epoch 9/20\n",
            "\u001b[1m862/862\u001b[0m \u001b[32m━━━━━━━━━━━━━━━━━━━━\u001b[0m\u001b[37m\u001b[0m \u001b[1m6s\u001b[0m 7ms/step - accuracy: 0.6772 - loss: 1.1525 - val_accuracy: 0.6857 - val_loss: 1.1071\n",
            "Epoch 10/20\n",
            "\u001b[1m862/862\u001b[0m \u001b[32m━━━━━━━━━━━━━━━━━━━━\u001b[0m\u001b[37m\u001b[0m \u001b[1m8s\u001b[0m 4ms/step - accuracy: 0.6932 - loss: 1.0697 - val_accuracy: 0.7113 - val_loss: 1.0162\n",
            "Epoch 11/20\n",
            "\u001b[1m862/862\u001b[0m \u001b[32m━━━━━━━━━━━━━━━━━━━━\u001b[0m\u001b[37m\u001b[0m \u001b[1m6s\u001b[0m 7ms/step - accuracy: 0.7164 - loss: 0.9835 - val_accuracy: 0.7179 - val_loss: 0.9498\n",
            "Epoch 12/20\n",
            "\u001b[1m862/862\u001b[0m \u001b[32m━━━━━━━━━━━━━━━━━━━━\u001b[0m\u001b[37m\u001b[0m \u001b[1m5s\u001b[0m 6ms/step - accuracy: 0.7343 - loss: 0.9022 - val_accuracy: 0.7540 - val_loss: 0.8650\n",
            "Epoch 13/20\n",
            "\u001b[1m862/862\u001b[0m \u001b[32m━━━━━━━━━━━━━━━━━━━━\u001b[0m\u001b[37m\u001b[0m \u001b[1m3s\u001b[0m 4ms/step - accuracy: 0.7544 - loss: 0.8364 - val_accuracy: 0.7404 - val_loss: 0.9378\n",
            "Epoch 14/20\n",
            "\u001b[1m862/862\u001b[0m \u001b[32m━━━━━━━━━━━━━━━━━━━━\u001b[0m\u001b[37m\u001b[0m \u001b[1m4s\u001b[0m 5ms/step - accuracy: 0.7722 - loss: 0.7811 - val_accuracy: 0.7866 - val_loss: 0.7188\n",
            "Epoch 15/20\n",
            "\u001b[1m862/862\u001b[0m \u001b[32m━━━━━━━━━━━━━━━━━━━━\u001b[0m\u001b[37m\u001b[0m \u001b[1m8s\u001b[0m 8ms/step - accuracy: 0.7930 - loss: 0.7080 - val_accuracy: 0.8123 - val_loss: 0.6706\n",
            "Epoch 16/20\n",
            "\u001b[1m862/862\u001b[0m \u001b[32m━━━━━━━━━━━━━━━━━━━━\u001b[0m\u001b[37m\u001b[0m \u001b[1m3s\u001b[0m 4ms/step - accuracy: 0.8122 - loss: 0.6479 - val_accuracy: 0.8095 - val_loss: 0.6414\n",
            "Epoch 17/20\n",
            "\u001b[1m862/862\u001b[0m \u001b[32m━━━━━━━━━━━━━━━━━━━━\u001b[0m\u001b[37m\u001b[0m \u001b[1m4s\u001b[0m 4ms/step - accuracy: 0.8242 - loss: 0.5972 - val_accuracy: 0.8267 - val_loss: 0.5752\n",
            "Epoch 18/20\n",
            "\u001b[1m862/862\u001b[0m \u001b[32m━━━━━━━━━━━━━━━━━━━━\u001b[0m\u001b[37m\u001b[0m \u001b[1m4s\u001b[0m 5ms/step - accuracy: 0.8347 - loss: 0.5589 - val_accuracy: 0.8307 - val_loss: 0.5347\n",
            "Epoch 19/20\n",
            "\u001b[1m862/862\u001b[0m \u001b[32m━━━━━━━━━━━━━━━━━━━━\u001b[0m\u001b[37m\u001b[0m \u001b[1m8s\u001b[0m 9ms/step - accuracy: 0.8379 - loss: 0.5302 - val_accuracy: 0.8334 - val_loss: 0.5380\n",
            "Epoch 20/20\n",
            "\u001b[1m862/862\u001b[0m \u001b[32m━━━━━━━━━━━━━━━━━━━━\u001b[0m\u001b[37m\u001b[0m \u001b[1m7s\u001b[0m 8ms/step - accuracy: 0.8515 - loss: 0.4900 - val_accuracy: 0.8494 - val_loss: 0.4884\n"
          ]
        }
      ]
    },
    {
      "cell_type": "markdown",
      "metadata": {
        "id": "6291c22d"
      },
      "source": [
        "**Reasoning**:\n",
        "The first step is to load the data from the CSV file into a pandas DataFrame.\n",
        "\n"
      ],
      "id": "6291c22d"
    },
    {
      "cell_type": "markdown",
      "metadata": {
        "id": "1cc20e7e"
      },
      "source": [
        "**Reasoning**:\n",
        "The previous attempt to load the data failed because the file 'car_data.csv' was not found. I need to list the files in the current directory to find the correct file name.\n",
        "\n"
      ],
      "id": "1cc20e7e"
    },
    {
      "cell_type": "code",
      "metadata": {
        "colab": {
          "base_uri": "https://localhost:8080/"
        },
        "id": "jVkQuaIJS6WW",
        "outputId": "d12dfc4b-4d6f-4074-ff72-1f304c94c652"
      },
      "source": [
        "import os\n",
        "\n",
        "# List files in the current directory\n",
        "print(os.listdir('.'))"
      ],
      "id": "jVkQuaIJS6WW",
      "execution_count": null,
      "outputs": [
        {
          "output_type": "stream",
          "name": "stdout",
          "text": [
            "['.config', 'dataset_small.zip', 'data_folder2', 'structured_cleaned_new_dataset.csv', 'sample_data']\n"
          ]
        }
      ]
    },
    {
      "cell_type": "markdown",
      "metadata": {
        "id": "f42c30ff"
      },
      "source": [
        "**Reasoning**:\n",
        "The previous command showed that the file 'car_data.csv' does not exist. However, 'dataset_small.zip' is present. It is likely that the data is contained within this zip file. I need to extract the zip file and then load the data from the extracted file.\n",
        "\n"
      ],
      "id": "f42c30ff"
    },
    {
      "cell_type": "code",
      "metadata": {
        "colab": {
          "base_uri": "https://localhost:8080/"
        },
        "id": "da902ed2",
        "outputId": "39bf46d4-1a42-40dc-8940-858e2b79f2a3"
      },
      "source": [
        "import zipfile\n",
        "\n",
        "# Unzip the dataset.\n",
        "with zipfile.ZipFile('dataset_small.zip', 'r') as zip_ref:\n",
        "    zip_ref.extractall('.')\n",
        "\n",
        "# List files in the current directory again to confirm extraction\n",
        "print(os.listdir('.'))"
      ],
      "id": "da902ed2",
      "execution_count": null,
      "outputs": [
        {
          "output_type": "stream",
          "name": "stdout",
          "text": [
            "['.config', 'dataset_small.zip', 'data_folder2', 'structured_cleaned_new_dataset.csv', 'sample_data']\n"
          ]
        }
      ]
    },
    {
      "cell_type": "markdown",
      "metadata": {
        "id": "df9b141c"
      },
      "source": [
        "**Reasoning**:\n",
        "The previous command successfully extracted the zip file and the file 'structured_cleaned_new_dataset.csv' is now present. I can now load this CSV file into a pandas DataFrame.\n",
        "\n"
      ],
      "id": "df9b141c"
    },
    {
      "cell_type": "code",
      "metadata": {
        "colab": {
          "base_uri": "https://localhost:8080/"
        },
        "id": "17f1967d",
        "outputId": "46b1b9da-801d-4c8c-cfe0-69e1b3c61b9e"
      },
      "source": [
        "# Load the dataframe.\n",
        "df_car_data = pd.read_csv('structured_cleaned_new_dataset.csv')\n",
        "\n",
        "# Print some info.\n",
        "df_car_data.info()"
      ],
      "id": "17f1967d",
      "execution_count": null,
      "outputs": [
        {
          "output_type": "stream",
          "name": "stdout",
          "text": [
            "<class 'pandas.core.frame.DataFrame'>\n",
            "RangeIndex: 86227 entries, 0 to 86226\n",
            "Data columns (total 10 columns):\n",
            " #   Column            Non-Null Count  Dtype \n",
            "---  ------            --------------  ----- \n",
            " 0   id                86227 non-null  int64 \n",
            " 1   file_path         86227 non-null  object\n",
            " 2   file_size         86227 non-null  int64 \n",
            " 3   line_count        86227 non-null  int64 \n",
            " 4   extension         86227 non-null  object\n",
            " 5   language          86227 non-null  object\n",
            " 6   code              86171 non-null  object\n",
            " 7   clean_code        86169 non-null  object\n",
            " 8   clean_line_count  86227 non-null  int64 \n",
            " 9   clean_size        86227 non-null  int64 \n",
            "dtypes: int64(5), object(5)\n",
            "memory usage: 6.6+ MB\n"
          ]
        }
      ]
    },
    {
      "cell_type": "markdown",
      "metadata": {
        "id": "c3f2a232"
      },
      "source": [
        "## Finish task\n",
        "\n",
        "Summarize the findings from the model evaluation and present the performance metrics (loss and accuracy) of the CNN-LSTM model."
      ],
      "id": "c3f2a232"
    },
    {
      "cell_type": "markdown",
      "metadata": {
        "id": "52ed4e1c"
      },
      "source": [
        "## Model evaluation\n",
        "\n",
        "### Subtask:\n",
        "Evaluate the trained CNN-LSTM model on the testing data to assess its performance."
      ],
      "id": "52ed4e1c"
    },
    {
      "cell_type": "markdown",
      "metadata": {
        "id": "d42343fe"
      },
      "source": [
        "**Reasoning**:\n",
        "Evaluate the trained model using the testing data to determine its accuracy and loss on unseen data."
      ],
      "id": "d42343fe"
    },
    {
      "cell_type": "code",
      "metadata": {
        "colab": {
          "base_uri": "https://localhost:8080/"
        },
        "id": "b3349082",
        "outputId": "99e1a98b-f453-45db-e954-1a0d848cde9a"
      },
      "source": [
        "# Evaluate the model on the test data\n",
        "loss, accuracy = model.evaluate(X_test, y_test)\n",
        "\n",
        "print(f\"Test Loss: {loss:.4f}\")\n",
        "print(f\"Test Accuracy: {accuracy:.4f}\")"
      ],
      "id": "b3349082",
      "execution_count": null,
      "outputs": [
        {
          "output_type": "stream",
          "name": "stdout",
          "text": [
            "\u001b[1m539/539\u001b[0m \u001b[32m━━━━━━━━━━━━━━━━━━━━\u001b[0m\u001b[37m\u001b[0m \u001b[1m1s\u001b[0m 2ms/step - accuracy: 0.8515 - loss: 0.4923\n",
            "Test Loss: 0.4910\n",
            "Test Accuracy: 0.8505\n"
          ]
        }
      ]
    }
  ],
  "metadata": {
    "kernelspec": {
      "display_name": "Python 3 (ipykernel)",
      "language": "python",
      "name": "python3"
    },
    "language_info": {
      "codemirror_mode": {
        "name": "ipython",
        "version": 3
      },
      "file_extension": ".py",
      "mimetype": "text/x-python",
      "name": "python",
      "nbconvert_exporter": "python",
      "pygments_lexer": "ipython3",
      "version": "3.13.0"
    },
    "colab": {
      "provenance": []
    }
  },
  "nbformat": 4,
  "nbformat_minor": 5
}