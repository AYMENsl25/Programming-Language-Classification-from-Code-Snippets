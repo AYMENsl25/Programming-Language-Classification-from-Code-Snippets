{
 "cells": [
  {
   "cell_type": "code",
   "execution_count": 1,
   "id": "0c96b818-7d6c-43c2-a442-cdec34a3c2c1",
   "metadata": {},
   "outputs": [],
   "source": [
    "import pandas as pd\n",
    "import torch\n",
    "import tensorflow as tf\n",
    "from sklearn.linear_model import LinearRegression\n",
    "import numpy as np\n",
    "import matplotlib.pyplot as plt"
   ]
  },
  {
   "cell_type": "code",
   "execution_count": null,
   "id": "0a3c16b2-044a-43da-ac7f-07acd3694b9e",
   "metadata": {},
   "outputs": [],
   "source": [
    "import zipfile\n",
    "with zipfile.ZipFile(\"dataset_small.zip\", \"r\") as zip_ref:\n",
    "    zip_ref.extractall(\"code_files\")"
   ]
  },
  {
   "cell_type": "code",
   "execution_count": null,
   "id": "7f1ccd7d-0912-437f-b183-abf383565e7f",
   "metadata": {},
   "outputs": [],
   "source": [
    "df = pd.read_csv(\"data_folder2/structured_cleaned_new_dataset.csv\")\n",
    "df.head()\n"
   ]
  },
  {
   "cell_type": "code",
   "execution_count": null,
   "id": "fd3fdfba-df9d-43e8-8ed4-5209fd4ad14e",
   "metadata": {},
   "outputs": [],
   "source": [
    "missing = df[\"clean_code\"].isnull().sum()\n",
    "print(f\"Missing code rows: {missing}\")"
   ]
  },
  {
   "cell_type": "code",
   "execution_count": null,
   "id": "4487e9a1-1a51-403c-ac28-fb760a667466",
   "metadata": {},
   "outputs": [],
   "source": [
    "df.dropna()"
   ]
  },
  {
   "cell_type": "code",
   "execution_count": null,
   "id": "ddc6e4d5-7b6a-4688-8a15-0b2140d30173",
   "metadata": {},
   "outputs": [],
   "source": [
    "min_count = 10  # threshold\n",
    "counts = df[\"language\"].value_counts()\n",
    "\n",
    "df[\"language\"] = df[\"language\"].apply(\n",
    "    lambda x: x if counts[x] >= min_count else \"Other\"\n",
    ")\n",
    "\n",
    "print(df[\"language\"].value_counts())"
   ]
  },
  {
   "cell_type": "code",
   "execution_count": null,
   "id": "72cd8923-0786-4475-877b-f9e393135359",
   "metadata": {},
   "outputs": [],
   "source": [
    "print(df.isnull().sum())\n",
    "\n",
    "# Check how many rows in total have any missing value\n",
    "print(\"Rows with missing values:\", df.isnull().any(axis=1).sum())"
   ]
  },
  {
   "cell_type": "markdown",
   "id": "0458a655-5823-49be-922e-4a40d7814c13",
   "metadata": {},
   "source": [
    "# start implimenting your model (split data intilize the model extra )"
   ]
  },
  {
   "cell_type": "code",
   "execution_count": null,
   "id": "7fb640cc-f3f8-4061-a1dc-a742c55960c8",
   "metadata": {},
   "outputs": [],
   "source": []
  },
  {
   "cell_type": "code",
   "execution_count": null,
   "id": "d24f819c-6580-493f-b9e9-08e90b658cdb",
   "metadata": {},
   "outputs": [],
   "source": []
  },
  {
   "cell_type": "code",
   "execution_count": null,
   "id": "b4d39a05-87a5-4c8e-b815-67060c5a5a48",
   "metadata": {},
   "outputs": [],
   "source": []
  },
  {
   "cell_type": "code",
   "execution_count": null,
   "id": "bf8a182f-34b5-41c5-838a-d27dacc2e694",
   "metadata": {},
   "outputs": [],
   "source": []
  },
  {
   "cell_type": "code",
   "execution_count": null,
   "id": "1d46cab7-d8fd-4143-bbd3-cdffc7b0f36e",
   "metadata": {},
   "outputs": [],
   "source": []
  }
 ],
 "metadata": {
  "kernelspec": {
   "display_name": "Python 3 (ipykernel)",
   "language": "python",
   "name": "python3"
  },
  "language_info": {
   "codemirror_mode": {
    "name": "ipython",
    "version": 3
   },
   "file_extension": ".py",
   "mimetype": "text/x-python",
   "name": "python",
   "nbconvert_exporter": "python",
   "pygments_lexer": "ipython3",
   "version": "3.13.0"
  }
 },
 "nbformat": 4,
 "nbformat_minor": 5
}
