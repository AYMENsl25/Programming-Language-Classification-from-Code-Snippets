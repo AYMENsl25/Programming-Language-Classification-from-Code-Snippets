{
 "cells": [
  {
   "cell_type": "code",
   "execution_count": 5,
   "id": "275bc34a-72b2-4f9d-9c97-2225f35b3029",
   "metadata": {},
   "outputs": [],
   "source": [
    "import pandas as pd\n",
    "import torch\n",
    "import tensorflow as tf\n",
    "from sklearn.linear_model import LinearRegression\n",
    "import numpy as np\n",
    "import matplotlib.pyplot as plt"
   ]
  },
  {
   "cell_type": "code",
   "execution_count": 6,
   "id": "b3b794f2-9082-43f3-9fb3-fe0278d9093e",
   "metadata": {},
   "outputs": [
    {
     "data": {
      "text/html": [
       "<div>\n",
       "<style scoped>\n",
       "    .dataframe tbody tr th:only-of-type {\n",
       "        vertical-align: middle;\n",
       "    }\n",
       "\n",
       "    .dataframe tbody tr th {\n",
       "        vertical-align: top;\n",
       "    }\n",
       "\n",
       "    .dataframe thead th {\n",
       "        text-align: right;\n",
       "    }\n",
       "</style>\n",
       "<table border=\"1\" class=\"dataframe\">\n",
       "  <thead>\n",
       "    <tr style=\"text-align: right;\">\n",
       "      <th></th>\n",
       "      <th>id</th>\n",
       "      <th>file_path</th>\n",
       "      <th>file_size</th>\n",
       "      <th>line_count</th>\n",
       "      <th>extension</th>\n",
       "      <th>language</th>\n",
       "    </tr>\n",
       "  </thead>\n",
       "  <tbody>\n",
       "    <tr>\n",
       "      <th>0</th>\n",
       "      <td>1</td>\n",
       "      <td>Markdown/000001.md</td>\n",
       "      <td>34784</td>\n",
       "      <td>572</td>\n",
       "      <td>md</td>\n",
       "      <td>Markdown</td>\n",
       "    </tr>\n",
       "    <tr>\n",
       "      <th>1</th>\n",
       "      <td>2</td>\n",
       "      <td>XML/000002.props</td>\n",
       "      <td>3013</td>\n",
       "      <td>44</td>\n",
       "      <td>props</td>\n",
       "      <td>XML</td>\n",
       "    </tr>\n",
       "    <tr>\n",
       "      <th>2</th>\n",
       "      <td>3</td>\n",
       "      <td>Text/000003.txt</td>\n",
       "      <td>1076</td>\n",
       "      <td>21</td>\n",
       "      <td>txt</td>\n",
       "      <td>Text</td>\n",
       "    </tr>\n",
       "    <tr>\n",
       "      <th>3</th>\n",
       "      <td>4</td>\n",
       "      <td>Markdown/000004.md</td>\n",
       "      <td>8105</td>\n",
       "      <td>84</td>\n",
       "      <td>md</td>\n",
       "      <td>Markdown</td>\n",
       "    </tr>\n",
       "    <tr>\n",
       "      <th>4</th>\n",
       "      <td>5</td>\n",
       "      <td>Markdown/000005.md</td>\n",
       "      <td>2763</td>\n",
       "      <td>41</td>\n",
       "      <td>md</td>\n",
       "      <td>Markdown</td>\n",
       "    </tr>\n",
       "  </tbody>\n",
       "</table>\n",
       "</div>"
      ],
      "text/plain": [
       "   id           file_path  file_size  line_count extension  language\n",
       "0   1  Markdown/000001.md      34784         572        md  Markdown\n",
       "1   2    XML/000002.props       3013          44     props       XML\n",
       "2   3     Text/000003.txt       1076          21       txt      Text\n",
       "3   4  Markdown/000004.md       8105          84        md  Markdown\n",
       "4   5  Markdown/000005.md       2763          41        md  Markdown"
      ]
     },
     "execution_count": 6,
     "metadata": {},
     "output_type": "execute_result"
    }
   ],
   "source": [
    "import pandas as pd\n",
    "df = pd.read_csv(\"dataset.csv.zip\")  # Replace with actual filename\n",
    "df.head()"
   ]
  },
  {
   "cell_type": "markdown",
   "id": "c57a8c8f-00c8-4f70-a999-8a9060decbfa",
   "metadata": {},
   "source": [
    " # STEP 2 : Unzip the Code Files"
   ]
  },
  {
   "cell_type": "code",
   "execution_count": 3,
   "id": "b9ab9e65-7917-4f72-8bd2-16bc080d67c9",
   "metadata": {},
   "outputs": [],
   "source": [
    "import zipfile\n",
    "with zipfile.ZipFile(\"dataset.zip\", \"r\") as zip_ref:\n",
    "    zip_ref.extractall(\"code_files\")"
   ]
  },
  {
   "cell_type": "markdown",
   "id": "26f5a792-b804-4f5c-bdcb-2c31bfb2caa0",
   "metadata": {},
   "source": [
    "# STEP 3 : Read Code from File Paths\n"
   ]
  },
  {
   "cell_type": "code",
   "execution_count": null,
   "id": "f156c813-896a-4ce7-bf42-c4b850029fb9",
   "metadata": {},
   "outputs": [],
   "source": [
    "import os\n",
    "\n",
    "def read_code(path):\n",
    "    full_path = os.path.join(\"code_files\", path)\n",
    "    try:\n",
    "        with open(full_path, \"r\", encoding=\"utf-8\") as f:\n",
    "            return f.read()\n",
    "    except Exception as e:\n",
    "        return f\"ERROR: {e}\"\n",
    "\n",
    "df[\"code\"] = df[\"file_path\"].apply(read_code)"
   ]
  },
  {
   "cell_type": "code",
   "execution_count": null,
   "id": "13363c61-b3c8-42ad-997f-0fb48520ffcb",
   "metadata": {},
   "outputs": [],
   "source": [
    "df"
   ]
  },
  {
   "cell_type": "code",
   "execution_count": null,
   "id": "63d72813-75c4-430a-b6ab-a5102826f8a9",
   "metadata": {},
   "outputs": [],
   "source": [
    "df.loc[1,'code']"
   ]
  },
  {
   "cell_type": "markdown",
   "id": "ff4d3092-7de2-4773-96f9-13a0483b1e6c",
   "metadata": {},
   "source": [
    " # THE CLEAN FUNCTION"
   ]
  },
  {
   "cell_type": "code",
   "execution_count": null,
   "id": "5cd7c368-6368-486f-853c-b44163b766bb",
   "metadata": {},
   "outputs": [],
   "source": [
    "import re\n",
    "def preprocess_code(text):\n",
    "        \"\"\"Clean and preprocess code snippets\"\"\"\n",
    "        if pd.isna(text):\n",
    "            return \"\"\n",
    "\n",
    "        # Convert to lowercase\n",
    "        text = text.lower()\n",
    "\n",
    "        # Remove comments\n",
    "        text = re.sub(r'#.*', '', text)  # Python comments\n",
    "        text = re.sub(r'//.*', '', text)  # Single-line comments\n",
    "        text = re.sub(r'/\\*.*?\\*/', '', text, flags=re.DOTALL)  # Multi-line comments\n",
    "\n",
    "        # Remove extra whitespace but keep basic structure\n",
    "        text = re.sub(r'\\s+', ' ', text)\n",
    "\n",
    "        text = text[:10000]\n",
    "\n",
    "        \n",
    "        \n",
    "        return text.strip()"
   ]
  },
  {
   "cell_type": "code",
   "execution_count": null,
   "id": "525ca516-104d-4060-adfb-cc1210bdb521",
   "metadata": {},
   "outputs": [],
   "source": [
    "# import re\n",
    "\n",
    "# def preprocess_code_for_classification(code):\n",
    "#     \"\"\"Clean code for classification: remove strings, normalize whitespace, preserve symbols and structure\"\"\"\n",
    "#     if not isinstance(code, str):\n",
    "#         return \"\"\n",
    "\n",
    "#     # Remove string literals (single and double quotes)\n",
    "#     code = re.sub(r'([\"\\'])(?:(?=(\\\\?))\\2.)*?\\1', '', code)\n",
    "\n",
    "#     # Normalize tabs and spaces (preserve newlines)\n",
    "#     code = re.sub(r'[ \\t]+', ' ', code)      # Collapse multiple spaces/tabs\n",
    "#     code = re.sub(r'\\n+', '\\n', code)        # Collapse multiple newlines\n",
    "\n",
    "#     # Strip leading/trailing whitespace from each line\n",
    "#     code = '\\n'.join(line.strip() for line in code.splitlines())\n",
    "\n",
    "#     # Truncate long files (optional)\n",
    "#     code = code[:10000]\n",
    "\n",
    "#     return code.strip()"
   ]
  },
  {
   "cell_type": "code",
   "execution_count": null,
   "id": "c59fd4d5-0ac8-4a4b-ad01-a1c6c353254d",
   "metadata": {},
   "outputs": [],
   "source": [
    "df[\"clean_code\"] = df[\"code\"].apply(preprocess_code)"
   ]
  },
  {
   "cell_type": "code",
   "execution_count": null,
   "id": "7ddf25ec-80af-4142-88d2-ddcc7a2ee75e",
   "metadata": {},
   "outputs": [],
   "source": [
    "missing = df[\"clean_code\"].isnull().sum()\n",
    "print(f\"Missing code rows: {missing}\")"
   ]
  },
  {
   "cell_type": "code",
   "execution_count": null,
   "id": "a4787f0d-cab5-4504-9495-7ea92b5abc1a",
   "metadata": {},
   "outputs": [],
   "source": [
    "df[\"clean_line_count\"] = df[\"clean_code\"].apply(lambda x: len(x.splitlines()))\n",
    "df[\"clean_size\"] = df[\"clean_code\"].apply(lambda x: len(x.encode(\"utf-8\")))"
   ]
  },
  {
   "cell_type": "code",
   "execution_count": null,
   "id": "298c3994-27df-49c1-9de4-4ebcc2a8451a",
   "metadata": {},
   "outputs": [],
   "source": [
    "df"
   ]
  },
  {
   "cell_type": "code",
   "execution_count": null,
   "id": "c3530497-d02a-4601-b9f9-78661ebffad3",
   "metadata": {},
   "outputs": [],
   "source": [
    "print(\"Rows:\", len(df))\n",
    "print(\"\\nLanguage distribution:\\n\", df[\"language\"].value_counts())"
   ]
  },
  {
   "cell_type": "code",
   "execution_count": null,
   "id": "614b2e65-9b86-45e4-86c9-c43154363e9b",
   "metadata": {},
   "outputs": [],
   "source": [
    "df[[\"language\", group_key]]"
   ]
  },
  {
   "cell_type": "code",
   "execution_count": null,
   "id": "53213f04-eb9f-4d65-822b-685eb4a490cb",
   "metadata": {},
   "outputs": [],
   "source": [
    "import pandas as pd\n",
    "print(pd.__version__)"
   ]
  },
  {
   "cell_type": "code",
   "execution_count": null,
   "id": "e3511075-67fa-4d29-a94a-0242f8c8f4e6",
   "metadata": {},
   "outputs": [],
   "source": [
    "def downsample_dataframe(df, label_col=\"language\", target_size=5000, enable=True):\n",
    "    if not enable:\n",
    "        return df\n",
    "\n",
    "    def sample_group(group):\n",
    "        return group.sample(n=target_size, random_state=1) if len(group) >= target_size else group\n",
    "\n",
    "    return (\n",
    "        df.groupby(label_col, group_keys=False)\n",
    "          .apply(sample_group, include_group=False)\n",
    "          .reset_index(drop=True)\n",
    "    )"
   ]
  },
  {
   "cell_type": "code",
   "execution_count": null,
   "id": "068f7be8-bebb-44c4-bb76-89eb0b3fcf78",
   "metadata": {},
   "outputs": [],
   "source": [
    "df = downsample_dataframe(df, label_col=\"language\", target_size=5000, enable=True)"
   ]
  },
  {
   "cell_type": "code",
   "execution_count": null,
   "id": "8686cd30-0275-491f-a63b-1bc9383e2f2c",
   "metadata": {},
   "outputs": [],
   "source": [
    "print(df[\"language\"].value_counts())"
   ]
  },
  {
   "cell_type": "code",
   "execution_count": null,
   "id": "f4ed2aa3-9cf2-49ad-9d34-6e1191eda192",
   "metadata": {},
   "outputs": [],
   "source": [
    "min_count = 5  # threshold\n",
    "counts = df[\"language\"].value_counts()\n",
    "\n",
    "df[\"language\"] = df[\"language\"].apply(\n",
    "    lambda x: x if counts[x] >= min_count else \"Other\"\n",
    ")\n",
    "\n",
    "print(df[\"language\"].value_counts())"
   ]
  },
  {
   "cell_type": "code",
   "execution_count": null,
   "id": "afe8b0c2-0efd-422a-a0ae-95e9ca553ea7",
   "metadata": {},
   "outputs": [],
   "source": [
    "other_count = (df[\"language\"] == \"Other\").sum()\n",
    "print(\"Number of code snippets in the otherclass:\", other_count)\n"
   ]
  }
 ],
 "metadata": {
  "kernelspec": {
   "display_name": "Python 3 (ipykernel)",
   "language": "python",
   "name": "python3"
  },
  "language_info": {
   "codemirror_mode": {
    "name": "ipython",
    "version": 3
   },
   "file_extension": ".py",
   "mimetype": "text/x-python",
   "name": "python",
   "nbconvert_exporter": "python",
   "pygments_lexer": "ipython3",
   "version": "3.13.0"
  }
 },
 "nbformat": 4,
 "nbformat_minor": 5
}
